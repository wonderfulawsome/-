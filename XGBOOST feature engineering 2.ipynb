{
 "cells": [
  {
   "cell_type": "markdown",
   "id": "5087706b",
   "metadata": {},
   "source": [
    "### 데이터 불러오기"
   ]
  },
  {
   "cell_type": "code",
   "execution_count": 1,
   "id": "3e49e473",
   "metadata": {},
   "outputs": [],
   "source": [
    "import pandas as pd\n",
    "\n",
    "file_paths={\n",
    "    'international_trade': 'C:/Users/82106/Desktop\\제주도 과일 공모전/data/international_trade.csv',\n",
    "    'test': 'C:/Users/82106/Desktop\\제주도 과일 공모전/data/test.csv',\n",
    "    'train': 'C:/Users/82106/Desktop/제주도 과일 공모전/data/train.csv',\n",
    "    'sample_submission':'C:/Users/82106/Desktop\\제주도 과일 공모전/data/sample_submission.csv'\n",
    "}\n",
    "\n",
    "#각 파일을 데이터프레임으로 읽기 \n",
    "dataframes={name: pd.read_csv(path) for name,path in file_paths.items()}\n"
   ]
  },
  {
   "cell_type": "markdown",
   "id": "3cbd2b50",
   "metadata": {},
   "source": [
    "### 날짜형 변환"
   ]
  },
  {
   "cell_type": "code",
   "execution_count": 2,
   "id": "80c0b11d",
   "metadata": {},
   "outputs": [],
   "source": [
    "dataframes['international_trade']['timestamp']=pd.to_datetime(dataframes['international_trade']['기간'],format='%Y-%m')\n",
    "train_timestamp_format=dataframes['train']['timestamp'].dtypes\n",
    "test_timestamp_format=dataframes['test']['timestamp'].dtypes"
   ]
  },
  {
   "cell_type": "markdown",
   "id": "61f22d89",
   "metadata": {},
   "source": [
    "### 품목명과 item 의 unique 값"
   ]
  },
  {
   "cell_type": "code",
   "execution_count": 3,
   "id": "f1550757",
   "metadata": {},
   "outputs": [],
   "source": [
    "unique_trade_items=dataframes['international_trade']['품목명'].unique()\n",
    "unique_train_items=dataframes['train']['item'].unique()"
   ]
  },
  {
   "cell_type": "markdown",
   "id": "3d97eb80",
   "metadata": {},
   "source": [
    "### 수출중량 , 수입 중량 , 무역수지 group화 -> monthl_trade_stats 로 특성 엔지니어링-> 날짜형 변환"
   ]
  },
  {
   "cell_type": "code",
   "execution_count": 4,
   "id": "5b9c6ec1",
   "metadata": {},
   "outputs": [],
   "source": [
    "monthly_trade_stats=dataframes['international_trade'].groupby(dataframes['international_trade']['timestamp'].dt.to_period('M')).agg({\n",
    "    '수출 중량': 'sum',\n",
    "    '수입 중량': 'sum',\n",
    "     '무역수지': 'sum'\n",
    "}).reset_index()\n",
    "\n",
    "monthly_trade_stats['timestamp']=monthly_trade_stats['timestamp'].dt.to_timestamp()\n"
   ]
  },
  {
   "cell_type": "markdown",
   "id": "4c470941",
   "metadata": {},
   "source": [
    "### train, test 날짜형 변환 "
   ]
  },
  {
   "cell_type": "code",
   "execution_count": 5,
   "id": "ed1663f6",
   "metadata": {},
   "outputs": [],
   "source": [
    "dataframes['train']['timestamp']=pd.to_datetime(dataframes['train']['timestamp'])\n",
    "dataframes['test']['timestamp']=pd.to_datetime(dataframes['test']['timestamp'])\n",
    "monthly_trade_stats['timestamp']=pd.to_datetime(monthly_trade_stats['timestamp'])\n",
    "\n",
    "#병합시도\n",
    "train_with_stats=dataframes['train'].merge(monthly_trade_stats, on='timestamp',how='left')\n",
    "train_with_stats_filled=train_with_stats.fillna(method='ffill')\n",
    "test_with_stats=dataframes['test'].merge(monthly_trade_stats, on='timestamp',how='left')\n",
    "test_with_stats_filled=test_with_stats.fillna(method='ffill')"
   ]
  },
  {
   "cell_type": "markdown",
   "id": "bcdb9151",
   "metadata": {},
   "source": [
    "### 범주형 변수 원핫인코딩"
   ]
  },
  {
   "cell_type": "code",
   "execution_count": 6,
   "id": "54a3b2e0",
   "metadata": {},
   "outputs": [],
   "source": [
    "categorical_columns=['item','corporation','location']\n",
    "train_encoded=pd.get_dummies(train_with_stats_filled,columns=categorical_columns)\n",
    "test_encoded=pd.get_dummies(test_with_stats_filled,columns=categorical_columns)"
   ]
  },
  {
   "cell_type": "markdown",
   "id": "264d7111",
   "metadata": {},
   "source": [
    "### train data 의 timestamp 컬럼을 연도 월 일 요일로 분해"
   ]
  },
  {
   "cell_type": "code",
   "execution_count": 7,
   "id": "9923c846",
   "metadata": {},
   "outputs": [],
   "source": [
    "train_encoded['year']=train_encoded['timestamp'].dt.year\n",
    "train_encoded['month']=train_encoded['timestamp'].dt.month\n",
    "train_encoded['day']=train_encoded['timestamp'].dt.day\n",
    "train_encoded['weekday']=train_encoded['timestamp'].dt.weekday"
   ]
  },
  {
   "cell_type": "code",
   "execution_count": 8,
   "id": "0d7d72f5",
   "metadata": {},
   "outputs": [],
   "source": [
    "# 원래의 timestamp column 제거\n",
    "\n",
    "train_encoded.drop('timestamp',axis=1,inplace=True)"
   ]
  },
  {
   "cell_type": "markdown",
   "id": "76f0584f",
   "metadata": {},
   "source": [
    "### test data 의 timestamp 컬럼을 연도 월 일 요일로 분해"
   ]
  },
  {
   "cell_type": "code",
   "execution_count": 9,
   "id": "bff348ab",
   "metadata": {},
   "outputs": [],
   "source": [
    "test_encoded['year']=test_encoded['timestamp'].dt.year\n",
    "test_encoded['month']=test_encoded['timestamp'].dt.month\n",
    "test_encoded['day']=test_encoded['timestamp'].dt.day\n",
    "test_encoded['weekday']=test_encoded['timestamp'].dt.weekday"
   ]
  },
  {
   "cell_type": "code",
   "execution_count": 10,
   "id": "5a31724b",
   "metadata": {},
   "outputs": [],
   "source": [
    "#테스트데이터도 timestamp 컬럼 제거\n",
    "\n",
    "test_encoded.drop('timestamp',axis=1,inplace=True)"
   ]
  },
  {
   "cell_type": "markdown",
   "id": "0b5e34f9",
   "metadata": {},
   "source": [
    "### train_encdoed 데이터 학습 과 검정 세트로 분할"
   ]
  },
  {
   "cell_type": "code",
   "execution_count": 11,
   "id": "d1ecf941",
   "metadata": {},
   "outputs": [],
   "source": [
    "from sklearn.model_selection import train_test_split\n",
    "\n",
    "X=train_encoded.drop(columns=['price(원/kg)','ID','supply(kg)'],errors='ignore')\n",
    "y=train_encoded['price(원/kg)']\n",
    "X_train,X_valid,y_train,y_valid=train_test_split(X,y,test_size=0.2,random_state=42)"
   ]
  },
  {
   "cell_type": "markdown",
   "id": "fe5607e6",
   "metadata": {},
   "source": [
    "### XGBOOST 회귀 파라미터값 설정, 학습, 예측 "
   ]
  },
  {
   "cell_type": "code",
   "execution_count": 12,
   "id": "19551bd6",
   "metadata": {},
   "outputs": [],
   "source": [
    "from xgboost import XGBRegressor\n",
    "model=XGBRegressor(\n",
    "n_estimators=10,\n",
    "max_depth=10,\n",
    "learning_rate=0.1,\n",
    "colsample_bytree=0.8,\n",
    "subsample=0.8,\n",
    "objective='reg:squarederror',\n",
    "random_state=42)"
   ]
  },
  {
   "cell_type": "code",
   "execution_count": 13,
   "id": "79502574",
   "metadata": {},
   "outputs": [
    {
     "data": {
      "text/plain": [
       "XGBRegressor(base_score=None, booster=None, callbacks=None,\n",
       "             colsample_bylevel=None, colsample_bynode=None,\n",
       "             colsample_bytree=0.8, device=None, early_stopping_rounds=None,\n",
       "             enable_categorical=False, eval_metric=None, feature_types=None,\n",
       "             gamma=None, grow_policy=None, importance_type=None,\n",
       "             interaction_constraints=None, learning_rate=0.1, max_bin=None,\n",
       "             max_cat_threshold=None, max_cat_to_onehot=None,\n",
       "             max_delta_step=None, max_depth=10, max_leaves=None,\n",
       "             min_child_weight=None, missing=nan, monotone_constraints=None,\n",
       "             multi_strategy=None, n_estimators=10, n_jobs=None,\n",
       "             num_parallel_tree=None, random_state=42, ...)"
      ]
     },
     "execution_count": 13,
     "metadata": {},
     "output_type": "execute_result"
    }
   ],
   "source": [
    "model.fit(X_train,y_train)"
   ]
  },
  {
   "cell_type": "code",
   "execution_count": 14,
   "id": "f6b2ac8e",
   "metadata": {},
   "outputs": [],
   "source": [
    "y_valid_pred=model.predict(X_valid)"
   ]
  },
  {
   "cell_type": "markdown",
   "id": "d1d3a9d2",
   "metadata": {},
   "source": [
    "### 검증세트에 대한 예측 수행\n"
   ]
  },
  {
   "cell_type": "code",
   "execution_count": 15,
   "id": "9b34196b",
   "metadata": {},
   "outputs": [
    {
     "data": {
      "text/plain": [
       "0.6488964637066957"
      ]
     },
     "execution_count": 15,
     "metadata": {},
     "output_type": "execute_result"
    }
   ],
   "source": [
    "from sklearn.metrics import r2_score\n",
    "\n",
    "# R^2 score 계산\n",
    "r2_valid = r2_score(y_valid, y_valid_pred)\n",
    "\n",
    "r2_valid"
   ]
  },
  {
   "cell_type": "markdown",
   "id": "a1cb1241",
   "metadata": {},
   "source": [
    "### 그리드 서치\n",
    "\n",
    "### 그리드 서치 파라미터 범위 설정"
   ]
  },
  {
   "cell_type": "code",
   "execution_count": 16,
   "id": "6c8cef28",
   "metadata": {},
   "outputs": [],
   "source": [
    "from sklearn.model_selection import GridSearchCV\n",
    "# 모델 초기화\n",
    "xgb_model = XGBRegressor(random_state=42)\n",
    "\n",
    "param_grid = {\n",
    "    'n_estimators': [80, 150],  # 주어진 모델보다 낮은 값을 포함하여 비교\n",
    "    'max_depth': [5, 7],         # 주어진 모델의 값과 비슷하거나 더 높은 값을 포함\n",
    "    'learning_rate': [0.05, 0.15],  # 학습률을 조금 더 높여 볼 수 있음\n",
    "    'colsample_bytree': [0.6, 1.0],  # 모든 컬럼을 사용하는 경우 포함\n",
    "    'subsample': [0.5, 1.0]         # 행의 샘플링 비율도 조정\n",
    "}\n"
   ]
  },
  {
   "cell_type": "markdown",
   "id": "f16e9336",
   "metadata": {},
   "source": [
    "### 그리드 서치 객체 초기화"
   ]
  },
  {
   "cell_type": "code",
   "execution_count": 17,
   "id": "ef87a337",
   "metadata": {},
   "outputs": [
    {
     "name": "stdout",
     "output_type": "stream",
     "text": [
      "Fitting 3 folds for each of 32 candidates, totalling 96 fits\n"
     ]
    },
    {
     "data": {
      "text/plain": [
       "{'colsample_bytree': 1.0,\n",
       " 'learning_rate': 0.05,\n",
       " 'max_depth': 5,\n",
       " 'n_estimators': 80,\n",
       " 'subsample': 0.5}"
      ]
     },
     "execution_count": 17,
     "metadata": {},
     "output_type": "execute_result"
    }
   ],
   "source": [
    "grid_search = GridSearchCV(\n",
    "    estimator=xgb_model,\n",
    "    param_grid=param_grid,\n",
    "    cv=3,                # 3-fold cross-validation\n",
    "    scoring='r2',        # R^2 score를 기준으로 최적화\n",
    "    verbose=1,           # 진행 상황에 대한 상세 출력\n",
    "    n_jobs=-1            # 모든 CPU 코어 사용\n",
    ")\n",
    "\n",
    "# 학습 데이터 준비\n",
    "X = train_encoded.drop(columns=['price(원/kg)', 'ID', 'supply(kg)'], errors='ignore')\n",
    "y = train_encoded['price(원/kg)']\n",
    "\n",
    "# 그리드 서치 실행\n",
    "grid_search.fit(X, y)\n",
    "\n",
    "# 결과 출력: 최적의 파라미터와 해당할 때의 R^2 스코어\n",
    "best_parameters = grid_search.best_params_\n",
    "\n",
    "\n",
    "best_parameters"
   ]
  },
  {
   "cell_type": "markdown",
   "id": "ee949290",
   "metadata": {},
   "source": [
    "### 하이퍼 파라미터로 학습"
   ]
  },
  {
   "cell_type": "code",
   "execution_count": 18,
   "id": "aa583014",
   "metadata": {},
   "outputs": [
    {
     "data": {
      "text/plain": [
       "0.745589674049661"
      ]
     },
     "execution_count": 18,
     "metadata": {},
     "output_type": "execute_result"
    }
   ],
   "source": [
    "from sklearn.model_selection import train_test_split\n",
    "from sklearn.metrics import r2_score\n",
    "\n",
    "# 최적의 하이퍼파라미터로 모델을 정의\n",
    "model = XGBRegressor(\n",
    "    n_estimators=best_parameters['n_estimators'],\n",
    "    max_depth=best_parameters['max_depth'],\n",
    "    learning_rate=best_parameters['learning_rate'],\n",
    "    colsample_bytree=best_parameters['colsample_bytree'],\n",
    "    subsample=best_parameters['subsample'],\n",
    "    objective='reg:squarederror',\n",
    "    random_state=42\n",
    ")\n",
    "\n",
    "# 모델을 학습 세트에 학습\n",
    "model.fit(X_train, y_train)\n",
    "\n",
    "# 검증 세트에 대한 예측을 수행\n",
    "y_valid_pred = model.predict(X_valid)\n",
    "\n",
    "# R^2 스코어로 모델을 평가)\n",
    "r2 = r2_score(y_valid, y_valid_pred)\n",
    "\n",
    "r2\n"
   ]
  },
  {
   "cell_type": "code",
   "execution_count": null,
   "id": "1134b9cf",
   "metadata": {},
   "outputs": [],
   "source": []
  }
 ],
 "metadata": {
  "kernelspec": {
   "display_name": "Python 3 (ipykernel)",
   "language": "python",
   "name": "python3"
  },
  "language_info": {
   "codemirror_mode": {
    "name": "ipython",
    "version": 3
   },
   "file_extension": ".py",
   "mimetype": "text/x-python",
   "name": "python",
   "nbconvert_exporter": "python",
   "pygments_lexer": "ipython3",
   "version": "3.9.12"
  }
 },
 "nbformat": 4,
 "nbformat_minor": 5
}
