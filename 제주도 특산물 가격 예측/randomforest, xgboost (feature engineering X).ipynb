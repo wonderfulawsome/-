{
 "cells": [
  {
   "cell_type": "code",
   "execution_count": 1,
   "id": "8a43fb5e",
   "metadata": {},
   "outputs": [
    {
     "data": {
      "text/plain": [
       "(                ID   timestamp item corporation location  supply(kg)  \\\n",
       " 0  TG_A_J_20190101  2019-01-01   TG           A        J         0.0   \n",
       " 1  TG_A_J_20190102  2019-01-02   TG           A        J         0.0   \n",
       " 2  TG_A_J_20190103  2019-01-03   TG           A        J     60601.0   \n",
       " 3  TG_A_J_20190104  2019-01-04   TG           A        J     25000.0   \n",
       " 4  TG_A_J_20190105  2019-01-05   TG           A        J     32352.0   \n",
       " \n",
       "    price(원/kg)  \n",
       " 0          0.0  \n",
       " 1          0.0  \n",
       " 2       1728.0  \n",
       " 3       1408.0  \n",
       " 4       1250.0  ,\n",
       "                 ID   timestamp item corporation location\n",
       " 0  TG_A_J_20230304  2023-03-04   TG           A        J\n",
       " 1  TG_A_J_20230305  2023-03-05   TG           A        J\n",
       " 2  TG_A_J_20230306  2023-03-06   TG           A        J\n",
       " 3  TG_A_J_20230307  2023-03-07   TG           A        J\n",
       " 4  TG_A_J_20230308  2023-03-08   TG           A        J,\n",
       "                 ID  answer\n",
       " 0  TG_A_J_20230304       0\n",
       " 1  TG_A_J_20230305       0\n",
       " 2  TG_A_J_20230306       0\n",
       " 3  TG_A_J_20230307       0\n",
       " 4  TG_A_J_20230308       0,\n",
       "         기간                        품목명   수출 중량  수출 금액    수입 중량  수입 금액  무역수지\n",
       " 0  2019-01  토마토(신선한 것이나 냉장한 것으로 한정한다)  356571    990        0      0   990\n",
       " 1  2019-01                         양파  821330    222  4003206   1118  -896\n",
       " 2  2019-01                         쪽파      60      1    93405    128  -127\n",
       " 3  2019-01       꽃양배추와 브로콜리(broccoli)     160      1   638913    563  -562\n",
       " 4  2019-01                  방울다다기 양배추       0      0     7580     38   -38)"
      ]
     },
     "execution_count": 1,
     "metadata": {},
     "output_type": "execute_result"
    }
   ],
   "source": [
    "import pandas as pd\n",
    "import numpy as np\n",
    "# 모든 데이터 파일을 동시에 불러오기\n",
    "file_paths = {\n",
    "    'train': 'train.csv',\n",
    "    'test': 'test.csv',\n",
    "    'sample_submission': 'sample_submission.csv',\n",
    "    'international_trade': 'international_trade.csv'\n",
    "}\n",
    "\n",
    "# 데이터프레임으로 불러오기\n",
    "dataframes = {name: pd.read_csv(path) for name, path in file_paths.items()}\n",
    "\n",
    "# 각 데이터프레임의 처음 몇 줄 확인\n",
    "dataframes_head = {name: df.head() for name, df in dataframes.items()}\n",
    "\n",
    "dataframes_head['train'], dataframes_head['test'], dataframes_head['sample_submission'], dataframes_head['international_trade']\n"
   ]
  },
  {
   "cell_type": "code",
   "execution_count": 2,
   "id": "73e2daee",
   "metadata": {},
   "outputs": [],
   "source": [
    "train_data=pd.read_csv('train.csv')\n",
    "test_data=pd.read_csv('test.csv')\n",
    "international_trade=pd.read_csv('international_trade.csv')"
   ]
  },
  {
   "cell_type": "markdown",
   "id": "aa3a7da6",
   "metadata": {},
   "source": [
    "### test 데이터 전처리"
   ]
  },
  {
   "cell_type": "code",
   "execution_count": 3,
   "id": "906f0e1a",
   "metadata": {},
   "outputs": [
    {
     "data": {
      "text/html": [
       "<div>\n",
       "<style scoped>\n",
       "    .dataframe tbody tr th:only-of-type {\n",
       "        vertical-align: middle;\n",
       "    }\n",
       "\n",
       "    .dataframe tbody tr th {\n",
       "        vertical-align: top;\n",
       "    }\n",
       "\n",
       "    .dataframe thead th {\n",
       "        text-align: right;\n",
       "    }\n",
       "</style>\n",
       "<table border=\"1\" class=\"dataframe\">\n",
       "  <thead>\n",
       "    <tr style=\"text-align: right;\">\n",
       "      <th></th>\n",
       "      <th>timestamp</th>\n",
       "      <th>item_CB</th>\n",
       "      <th>item_CR</th>\n",
       "      <th>item_RD</th>\n",
       "      <th>item_TG</th>\n",
       "      <th>corporation_B</th>\n",
       "      <th>corporation_C</th>\n",
       "      <th>corporation_D</th>\n",
       "      <th>corporation_E</th>\n",
       "      <th>corporation_F</th>\n",
       "      <th>location_S</th>\n",
       "    </tr>\n",
       "  </thead>\n",
       "  <tbody>\n",
       "    <tr>\n",
       "      <th>0</th>\n",
       "      <td>2023-03-04</td>\n",
       "      <td>0</td>\n",
       "      <td>0</td>\n",
       "      <td>0</td>\n",
       "      <td>1</td>\n",
       "      <td>0</td>\n",
       "      <td>0</td>\n",
       "      <td>0</td>\n",
       "      <td>0</td>\n",
       "      <td>0</td>\n",
       "      <td>0</td>\n",
       "    </tr>\n",
       "    <tr>\n",
       "      <th>1</th>\n",
       "      <td>2023-03-05</td>\n",
       "      <td>0</td>\n",
       "      <td>0</td>\n",
       "      <td>0</td>\n",
       "      <td>1</td>\n",
       "      <td>0</td>\n",
       "      <td>0</td>\n",
       "      <td>0</td>\n",
       "      <td>0</td>\n",
       "      <td>0</td>\n",
       "      <td>0</td>\n",
       "    </tr>\n",
       "    <tr>\n",
       "      <th>2</th>\n",
       "      <td>2023-03-06</td>\n",
       "      <td>0</td>\n",
       "      <td>0</td>\n",
       "      <td>0</td>\n",
       "      <td>1</td>\n",
       "      <td>0</td>\n",
       "      <td>0</td>\n",
       "      <td>0</td>\n",
       "      <td>0</td>\n",
       "      <td>0</td>\n",
       "      <td>0</td>\n",
       "    </tr>\n",
       "    <tr>\n",
       "      <th>3</th>\n",
       "      <td>2023-03-07</td>\n",
       "      <td>0</td>\n",
       "      <td>0</td>\n",
       "      <td>0</td>\n",
       "      <td>1</td>\n",
       "      <td>0</td>\n",
       "      <td>0</td>\n",
       "      <td>0</td>\n",
       "      <td>0</td>\n",
       "      <td>0</td>\n",
       "      <td>0</td>\n",
       "    </tr>\n",
       "    <tr>\n",
       "      <th>4</th>\n",
       "      <td>2023-03-08</td>\n",
       "      <td>0</td>\n",
       "      <td>0</td>\n",
       "      <td>0</td>\n",
       "      <td>1</td>\n",
       "      <td>0</td>\n",
       "      <td>0</td>\n",
       "      <td>0</td>\n",
       "      <td>0</td>\n",
       "      <td>0</td>\n",
       "      <td>0</td>\n",
       "    </tr>\n",
       "  </tbody>\n",
       "</table>\n",
       "</div>"
      ],
      "text/plain": [
       "   timestamp  item_CB  item_CR  item_RD  item_TG  corporation_B  \\\n",
       "0 2023-03-04        0        0        0        1              0   \n",
       "1 2023-03-05        0        0        0        1              0   \n",
       "2 2023-03-06        0        0        0        1              0   \n",
       "3 2023-03-07        0        0        0        1              0   \n",
       "4 2023-03-08        0        0        0        1              0   \n",
       "\n",
       "   corporation_C  corporation_D  corporation_E  corporation_F  location_S  \n",
       "0              0              0              0              0           0  \n",
       "1              0              0              0              0           0  \n",
       "2              0              0              0              0           0  \n",
       "3              0              0              0              0           0  \n",
       "4              0              0              0              0           0  "
      ]
     },
     "execution_count": 3,
     "metadata": {},
     "output_type": "execute_result"
    }
   ],
   "source": [
    "\n",
    "# 결측치 확인\n",
    "missing_values = test_data.isnull().sum()\n",
    "\n",
    "# 날짜 형식으로 변환\n",
    "test_data['timestamp'] = pd.to_datetime(test_data['timestamp'])\n",
    "\n",
    "# 범주형 데이터 인코딩을 위해 더미 변수 생성\n",
    "test_data_encoded = pd.get_dummies(test_data, columns=['item', 'corporation', 'location'], drop_first=True)\n",
    "\n",
    "# 변환된 데이터와 결측치 정보를 출력\n",
    "test_data_encoded.head(), missing_values\n",
    "\n",
    "# 'ID' 컬럼을 드랍합니다.\n",
    "test_data_encoded.drop('ID', axis=1, inplace=True)\n",
    "\n",
    "# 최종 전처리된 데이터 확인\n",
    "test_data_encoded.head()\n",
    "\n"
   ]
  },
  {
   "cell_type": "code",
   "execution_count": 4,
   "id": "e1b983a3",
   "metadata": {},
   "outputs": [],
   "source": [
    "# 데이터의 첫 5행을 출력하여 확인합니다.\n",
    "train_data_head = train_data.head()\n",
    "test_data_head = test_data.head()\n",
    "international_trade_head = international_trade.head()"
   ]
  },
  {
   "cell_type": "code",
   "execution_count": 5,
   "id": "d00f2f62",
   "metadata": {},
   "outputs": [
    {
     "data": {
      "text/plain": [
       "(                ID   timestamp item corporation location  supply(kg)  \\\n",
       " 0  TG_A_J_20190101  2019-01-01   TG           A        J         0.0   \n",
       " 1  TG_A_J_20190102  2019-01-02   TG           A        J         0.0   \n",
       " 2  TG_A_J_20190103  2019-01-03   TG           A        J     60601.0   \n",
       " 3  TG_A_J_20190104  2019-01-04   TG           A        J     25000.0   \n",
       " 4  TG_A_J_20190105  2019-01-05   TG           A        J     32352.0   \n",
       " \n",
       "    price(원/kg)  \n",
       " 0          0.0  \n",
       " 1          0.0  \n",
       " 2       1728.0  \n",
       " 3       1408.0  \n",
       " 4       1250.0  ,\n",
       "                 ID  timestamp item corporation location\n",
       " 0  TG_A_J_20230304 2023-03-04   TG           A        J\n",
       " 1  TG_A_J_20230305 2023-03-05   TG           A        J\n",
       " 2  TG_A_J_20230306 2023-03-06   TG           A        J\n",
       " 3  TG_A_J_20230307 2023-03-07   TG           A        J\n",
       " 4  TG_A_J_20230308 2023-03-08   TG           A        J,\n",
       "         기간                        품목명   수출 중량  수출 금액    수입 중량  수입 금액  무역수지\n",
       " 0  2019-01  토마토(신선한 것이나 냉장한 것으로 한정한다)  356571    990        0      0   990\n",
       " 1  2019-01                         양파  821330    222  4003206   1118  -896\n",
       " 2  2019-01                         쪽파      60      1    93405    128  -127\n",
       " 3  2019-01       꽃양배추와 브로콜리(broccoli)     160      1   638913    563  -562\n",
       " 4  2019-01                  방울다다기 양배추       0      0     7580     38   -38)"
      ]
     },
     "execution_count": 5,
     "metadata": {},
     "output_type": "execute_result"
    }
   ],
   "source": [
    "(train_data_head, test_data_head, international_trade_head)"
   ]
  },
  {
   "cell_type": "code",
   "execution_count": 6,
   "id": "e99a5ca2",
   "metadata": {},
   "outputs": [
    {
     "name": "stderr",
     "output_type": "stream",
     "text": [
      "C:\\Users\\82106\\AppData\\Local\\Temp\\ipykernel_13060\\305701395.py:5: FutureWarning: Treating datetime data as categorical rather than numeric in `.describe` is deprecated and will be removed in a future version of pandas. Specify `datetime_is_numeric=True` to silence this warning and adopt the future behavior now.\n",
      "  test_stats = test_data.describe()\n"
     ]
    },
    {
     "data": {
      "text/plain": [
       "((         supply(kg)   price(원/kg)\n",
       "  count  5.939700e+04  59397.000000\n",
       "  mean   1.189453e+04   1131.680674\n",
       "  std    5.226400e+04   2029.941445\n",
       "  min    0.000000e+00      0.000000\n",
       "  25%    0.000000e+00      0.000000\n",
       "  50%    0.000000e+00      0.000000\n",
       "  75%    3.800000e+03   1519.000000\n",
       "  max    1.222800e+06  20909.000000,\n",
       "                       ID            timestamp  item corporation location\n",
       "  count              1092                 1092  1092        1092     1092\n",
       "  unique             1092                   28     5           6        2\n",
       "  top     TG_A_J_20230304  2023-03-04 00:00:00    TG           A        J\n",
       "  freq                  1                   39   280         252      644\n",
       "  first               NaN  2023-03-04 00:00:00   NaN         NaN      NaN\n",
       "  last                NaN  2023-03-31 00:00:00   NaN         NaN      NaN,\n",
       "                수출 중량         수출 금액         수입 중량         수입 금액          무역수지\n",
       "  count  1.274000e+03   1274.000000  1.274000e+03   1274.000000   1274.000000\n",
       "  mean   2.005844e+05    360.425432  1.255735e+06   1548.219780  -1187.789639\n",
       "  std    9.669554e+05   1689.359223  3.680257e+06   5844.805789   6171.655116\n",
       "  min    0.000000e+00      0.000000  0.000000e+00      0.000000 -84117.000000\n",
       "  25%    0.000000e+00      0.000000  0.000000e+00      0.000000  -1240.500000\n",
       "  50%    1.255000e+02      1.000000  2.926950e+04     89.500000    -61.500000\n",
       "  75%    1.556525e+04     31.000000  1.022696e+06   1253.000000      9.000000\n",
       "  max    2.094942e+07  16278.000000  4.975914e+07  84118.000000  16278.000000),\n",
       " (ID             0\n",
       "  timestamp      0\n",
       "  item           0\n",
       "  corporation    0\n",
       "  location       0\n",
       "  supply(kg)     0\n",
       "  price(원/kg)    0\n",
       "  dtype: int64,\n",
       "  ID             0\n",
       "  timestamp      0\n",
       "  item           0\n",
       "  corporation    0\n",
       "  location       0\n",
       "  dtype: int64,\n",
       "  기간       0\n",
       "  품목명      0\n",
       "  수출 중량    0\n",
       "  수출 금액    0\n",
       "  수입 중량    0\n",
       "  수입 금액    0\n",
       "  무역수지     0\n",
       "  dtype: int64))"
      ]
     },
     "execution_count": 6,
     "metadata": {},
     "output_type": "execute_result"
    }
   ],
   "source": [
    "# 코드 셀 1: 기초 통계량 및 결측치 확인\n",
    "\n",
    "# 기초 통계량 확인\n",
    "train_stats = train_data.describe()\n",
    "test_stats = test_data.describe()\n",
    "international_trade_stats = international_trade.describe()\n",
    "\n",
    "# 결측치 확인\n",
    "train_null = train_data.isnull().sum()\n",
    "test_null = test_data.isnull().sum()\n",
    "international_trade_null = international_trade.isnull().sum()\n",
    "\n",
    "(train_stats, test_stats, international_trade_stats), (train_null, test_null, international_trade_null)\n"
   ]
  },
  {
   "cell_type": "code",
   "execution_count": 7,
   "id": "e3d69633",
   "metadata": {},
   "outputs": [
    {
     "name": "stderr",
     "output_type": "stream",
     "text": [
      "C:\\Users\\82106\\AppData\\Local\\Temp\\ipykernel_13060\\3603503826.py:26: UserWarning: Glyph 50896 (\\N{HANGUL SYLLABLE WEON}) missing from current font.\n",
      "  plt.tight_layout()\n",
      "C:\\Users\\82106\\anaconda3\\lib\\site-packages\\IPython\\core\\pylabtools.py:151: UserWarning: Glyph 50896 (\\N{HANGUL SYLLABLE WEON}) missing from current font.\n",
      "  fig.canvas.print_figure(bytes_io, **kw)\n"
     ]
    },
    {
     "data": {
      "image/png": "[encoded data removed]",
      "text/plain": [
       "<Figure size 1008x432 with 2 Axes>"
      ]
     },
     "metadata": {
      "needs_background": "light"
     },
     "output_type": "display_data"
    }
   ],
   "source": [
    "# 코드 셀 2: 공급량과 가격의 분포 시각화\n",
    "\n",
    "# 필요한 라이브러리를 임포트합니다.\n",
    "import matplotlib.pyplot as plt\n",
    "\n",
    "# 가격이 0보다 큰 행만 필터링합니다.\n",
    "filtered_train_data = train_data[train_data['price(원/kg)'] > 0]\n",
    "\n",
    "# 공급량과 가격에 대한 히스토그램을 그립니다.\n",
    "fig, ax = plt.subplots(1, 2, figsize=(14, 6))\n",
    "\n",
    "# 공급량 히스토그램\n",
    "ax[0].hist(filtered_train_data['supply(kg)'], bins=50, color='blue', alpha=0.7)\n",
    "ax[0].set_title('Supply Distribution')\n",
    "ax[0].set_xlabel('Supply (kg)')\n",
    "ax[0].set_ylabel('Frequency')\n",
    "ax[0].set_yscale('log') # 로그 스케일\n",
    "\n",
    "# 가격 히스토그램\n",
    "ax[1].hist(filtered_train_data['price(원/kg)'], bins=50, color='green', alpha=0.7)\n",
    "ax[1].set_title('Price Distribution')\n",
    "ax[1].set_xlabel('Price (원/kg)')\n",
    "ax[1].set_ylabel('Frequency')\n",
    "ax[1].set_yscale('log') # 로그 스케일\n",
    "\n",
    "plt.tight_layout()\n",
    "plt.show()\n"
   ]
  },
  {
   "cell_type": "code",
   "execution_count": 8,
   "id": "800bbbda",
   "metadata": {},
   "outputs": [
    {
     "data": {
      "text/plain": [
       "({0.01: 64.0,\n",
       "  0.05: 200.0,\n",
       "  0.25: 1536.25,\n",
       "  0.5: 7061.5,\n",
       "  0.75: 23622.25,\n",
       "  0.95: 112822.15000000002,\n",
       "  0.99: 435891.8},\n",
       " {0.01: 284.0,\n",
       "  0.05: 372.0,\n",
       "  0.25: 999.0,\n",
       "  0.5: 2031.5,\n",
       "  0.75: 4189.75,\n",
       "  0.95: 7419.0,\n",
       "  0.99: 9504.720000000001},\n",
       "        supply(kg)  item_BC  item_CB  item_CR  item_RD  item_TG  corporation_A  \\\n",
       " 41540      4300.0        0        0        0        1        0              0   \n",
       " 53997      4616.0        1        0        0        0        0              0   \n",
       " 20209     19860.0        0        0        1        0        0              0   \n",
       " 11210      1361.0        0        0        0        0        1              0   \n",
       " 562         715.0        0        0        0        0        1              1   \n",
       " \n",
       "        corporation_B  corporation_C  corporation_D  corporation_E  \\\n",
       " 41540              0              0              0              1   \n",
       " 53997              0              0              0              1   \n",
       " 20209              0              0              1              0   \n",
       " 11210              0              0              1              0   \n",
       " 562                0              0              0              0   \n",
       " \n",
       "        corporation_F  location_J  location_S  \n",
       " 41540              0           0           1  \n",
       " 53997              0           1           0  \n",
       " 20209              0           1           0  \n",
       " 11210              0           0           1  \n",
       " 562                0           1           0  ,\n",
       " 41540     487.0\n",
       " 53997    1558.0\n",
       " 20209    1283.0\n",
       " 11210    5849.0\n",
       " 562      7456.0\n",
       " Name: price(원/kg), dtype: float64)"
      ]
     },
     "execution_count": 8,
     "metadata": {},
     "output_type": "execute_result"
    }
   ],
   "source": [
    "\n",
    "# 필요한 라이브러리를 임포트합니다.\n",
    "from sklearn.model_selection import train_test_split\n",
    "\n",
    "# 가격과 공급량에 대한 백분위수를 계산합니다.\n",
    "percentiles = [0.01, 0.05, 0.25, 0.5, 0.75, 0.95, 0.99]\n",
    "supply_percentiles = filtered_train_data['supply(kg)'].quantile(percentiles).to_dict()\n",
    "price_percentiles = filtered_train_data['price(원/kg)'].quantile(percentiles).to_dict()\n",
    "\n",
    "# 이상치를 제거합니다.\n",
    "train_data_filtered = filtered_train_data[\n",
    "    (filtered_train_data['supply(kg)'] <= supply_percentiles[0.99]) &\n",
    "    (filtered_train_data['price(원/kg)'] <= price_percentiles[0.99])]\n",
    "\n",
    "# 훈련 데이터에서 독립 변수와 종속 변수를 분리합니다.\n",
    "X_train = train_data_filtered.drop(columns=['price(원/kg)', 'ID', 'timestamp'])\n",
    "y_train = train_data_filtered['price(원/kg)']\n",
    "\n",
    "# 더미 변수를 생성합니다.\n",
    "X_train = pd.get_dummies(X_train, columns=['item', 'corporation', 'location'])\n",
    "\n",
    "# 훈련 데이터와 검증 데이터로 분리합니다.\n",
    "X_train_split, X_val_split, y_train_split, y_val_split = train_test_split(\n",
    "    X_train, y_train, test_size=0.2, random_state=42\n",
    ")\n",
    "\n",
    "# 결과를 확인합니다.\n",
    "supply_percentiles, price_percentiles, X_train_split.head(), y_train_split.head()\n"
   ]
  },
  {
   "cell_type": "code",
   "execution_count": 9,
   "id": "6a24f70c",
   "metadata": {},
   "outputs": [
    {
     "name": "stderr",
     "output_type": "stream",
     "text": [
      "C:\\Users\\82106\\AppData\\Local\\Temp\\ipykernel_13060\\2750504962.py:4: SettingWithCopyWarning: \n",
      "A value is trying to be set on a copy of a slice from a DataFrame.\n",
      "Try using .loc[row_indexer,col_indexer] = value instead\n",
      "\n",
      "See the caveats in the documentation: https://pandas.pydata.org/pandas-docs/stable/user_guide/indexing.html#returning-a-view-versus-a-copy\n",
      "  train_data_filtered['timestamp'] = pd.to_datetime(train_data_filtered['timestamp'])\n"
     ]
    },
    {
     "data": {
      "text/html": [
       "<div>\n",
       "<style scoped>\n",
       "    .dataframe tbody tr th:only-of-type {\n",
       "        vertical-align: middle;\n",
       "    }\n",
       "\n",
       "    .dataframe tbody tr th {\n",
       "        vertical-align: top;\n",
       "    }\n",
       "\n",
       "    .dataframe thead th {\n",
       "        text-align: right;\n",
       "    }\n",
       "</style>\n",
       "<table border=\"1\" class=\"dataframe\">\n",
       "  <thead>\n",
       "    <tr style=\"text-align: right;\">\n",
       "      <th></th>\n",
       "      <th>ID</th>\n",
       "      <th>timestamp</th>\n",
       "      <th>item</th>\n",
       "      <th>corporation</th>\n",
       "      <th>location</th>\n",
       "      <th>supply(kg)</th>\n",
       "      <th>price(원/kg)</th>\n",
       "    </tr>\n",
       "  </thead>\n",
       "  <tbody>\n",
       "    <tr>\n",
       "      <th>2</th>\n",
       "      <td>TG_A_J_20190103</td>\n",
       "      <td>2019-01-03</td>\n",
       "      <td>TG</td>\n",
       "      <td>A</td>\n",
       "      <td>J</td>\n",
       "      <td>60601.0</td>\n",
       "      <td>1728.0</td>\n",
       "    </tr>\n",
       "    <tr>\n",
       "      <th>31985</th>\n",
       "      <td>RD_A_J_20190103</td>\n",
       "      <td>2019-01-03</td>\n",
       "      <td>RD</td>\n",
       "      <td>A</td>\n",
       "      <td>J</td>\n",
       "      <td>37060.0</td>\n",
       "      <td>367.0</td>\n",
       "    </tr>\n",
       "    <tr>\n",
       "      <th>33508</th>\n",
       "      <td>RD_A_S_20190103</td>\n",
       "      <td>2019-01-03</td>\n",
       "      <td>RD</td>\n",
       "      <td>A</td>\n",
       "      <td>S</td>\n",
       "      <td>20440.0</td>\n",
       "      <td>414.0</td>\n",
       "    </tr>\n",
       "    <tr>\n",
       "      <th>48738</th>\n",
       "      <td>BC_C_J_20190103</td>\n",
       "      <td>2019-01-03</td>\n",
       "      <td>BC</td>\n",
       "      <td>C</td>\n",
       "      <td>J</td>\n",
       "      <td>800.0</td>\n",
       "      <td>2079.0</td>\n",
       "    </tr>\n",
       "    <tr>\n",
       "      <th>27416</th>\n",
       "      <td>CB_A_S_20190103</td>\n",
       "      <td>2019-01-03</td>\n",
       "      <td>CB</td>\n",
       "      <td>A</td>\n",
       "      <td>S</td>\n",
       "      <td>3168.0</td>\n",
       "      <td>510.0</td>\n",
       "    </tr>\n",
       "  </tbody>\n",
       "</table>\n",
       "</div>"
      ],
      "text/plain": [
       "                    ID  timestamp item corporation location  supply(kg)  \\\n",
       "2      TG_A_J_20190103 2019-01-03   TG           A        J     60601.0   \n",
       "31985  RD_A_J_20190103 2019-01-03   RD           A        J     37060.0   \n",
       "33508  RD_A_S_20190103 2019-01-03   RD           A        S     20440.0   \n",
       "48738  BC_C_J_20190103 2019-01-03   BC           C        J       800.0   \n",
       "27416  CB_A_S_20190103 2019-01-03   CB           A        S      3168.0   \n",
       "\n",
       "       price(원/kg)  \n",
       "2           1728.0  \n",
       "31985        367.0  \n",
       "33508        414.0  \n",
       "48738       2079.0  \n",
       "27416        510.0  "
      ]
     },
     "execution_count": 9,
     "metadata": {},
     "output_type": "execute_result"
    }
   ],
   "source": [
    "# 코드 셀 4: 데이터 정렬 및 날짜 타입 변환\n",
    "\n",
    "# 날짜를 datetime 형식으로 변환합니다.\n",
    "train_data_filtered['timestamp'] = pd.to_datetime(train_data_filtered['timestamp'])\n",
    "\n",
    "# 날짜에 따라 데이터를 정렬합니다.\n",
    "sorted_train_data = train_data_filtered.sort_values(by='timestamp')\n",
    "\n",
    "# 정렬된 데이터의 첫 5행을 출력하여 확인합니다.\n",
    "sorted_train_data_head = sorted_train_data.head()\n",
    "sorted_train_data_head\n"
   ]
  },
  {
   "cell_type": "code",
   "execution_count": 10,
   "id": "3fe9acc6",
   "metadata": {},
   "outputs": [
    {
     "data": {
      "text/plain": [
       "997.5295795514171"
      ]
     },
     "execution_count": 10,
     "metadata": {},
     "output_type": "execute_result"
    }
   ],
   "source": [
    "\n",
    "# 모델 훈련 및 평가 코드를 가져와서 실행합니다.\n",
    "\n",
    "# 필요한 라이브러리를 임포트합니다.\n",
    "from sklearn.ensemble import RandomForestRegressor\n",
    "from sklearn.metrics import mean_squared_error\n",
    "\n",
    "# 랜덤 포레스트 회귀 모델을 훈련합니다.\n",
    "rf_model = RandomForestRegressor(random_state=42)\n",
    "rf_model.fit(X_train_split, y_train_split)\n",
    "\n",
    "# 검증 데이터셋에서의 예측을 수행합니다.\n",
    "y_val_pred = rf_model.predict(X_val_split)\n",
    "\n",
    "# 평균 제곱근 오차(RMSE)를 계산합니다.\n",
    "rmse = mean_squared_error(y_val_split, y_val_pred, squared=False)\n",
    "\n",
    "# 모델 성능을 출력합니다.\n",
    "rmse\n"
   ]
  },
  {
   "cell_type": "code",
   "execution_count": 11,
   "id": "df0831b2",
   "metadata": {},
   "outputs": [
    {
     "data": {
      "text/plain": [
       "0.7963105587608528"
      ]
     },
     "execution_count": 11,
     "metadata": {},
     "output_type": "execute_result"
    }
   ],
   "source": [
    "from sklearn.metrics import r2_score\n",
    "\n",
    "# R^2 (결정 계수)를 계산합니다.\n",
    "r2 = r2_score(y_val_split, y_val_pred)\n",
    "\n",
    "# R^2 값은 모델이 데이터의 분산을 얼마나 잘 설명하는지를 나타냅니다.\n",
    "r2\n"
   ]
  },
  {
   "cell_type": "code",
   "execution_count": 12,
   "id": "8f419cca",
   "metadata": {},
   "outputs": [
    {
     "name": "stdout",
     "output_type": "stream",
     "text": [
      "Fitting 2 folds for each of 5 candidates, totalling 10 fits\n"
     ]
    },
    {
     "data": {
      "text/plain": [
       "{'n_estimators': 100,\n",
       " 'min_samples_split': 2,\n",
       " 'min_samples_leaf': 2,\n",
       " 'max_depth': 20,\n",
       " 'bootstrap': True}"
      ]
     },
     "execution_count": 12,
     "metadata": {},
     "output_type": "execute_result"
    }
   ],
   "source": [
    "from sklearn.model_selection import RandomizedSearchCV\n",
    "\n",
    "# 랜덤 포레스트 모델의 하이퍼파라미터 범위를 정의합니다.\n",
    "param_distributions_reduced = {\n",
    "    'n_estimators': [100, 200, 300],\n",
    "    'max_depth': [None, 20, 50],\n",
    "    'min_samples_split': [2, 5],\n",
    "    'min_samples_leaf': [1, 2],\n",
    "    'bootstrap': [True, False]\n",
    "}\n",
    "\n",
    "# RandomizedSearchCV를 초기화합니다. n_iter는 조합할 하이퍼파라미터 수를 줄이고,\n",
    "# cv도 줄여서 빠르게 결과를 얻을 수 있도록 설정합니다.\n",
    "rf_random_search_reduced = RandomizedSearchCV(\n",
    "    estimator=RandomForestRegressor(random_state=42),\n",
    "    param_distributions=param_distributions_reduced,\n",
    "    n_iter=5,\n",
    "    cv=2,\n",
    "    verbose=2,\n",
    "    random_state=42,\n",
    "    n_jobs=-1\n",
    ")\n",
    "\n",
    "# RandomizedSearchCV를 훈련 데이터에 대해 다시 실행합니다.\n",
    "rf_random_search_reduced.fit(X_train_split, y_train_split)\n",
    "\n",
    "# 최적의 하이퍼파라미터를 출력합니다.\n",
    "best_params_reduced = rf_random_search_reduced.best_params_\n",
    "best_params_reduced\n"
   ]
  },
  {
   "cell_type": "code",
   "execution_count": 13,
   "id": "0550a7f0",
   "metadata": {},
   "outputs": [
    {
     "name": "stdout",
     "output_type": "stream",
     "text": [
      "<class 'pandas.core.frame.DataFrame'>\n",
      "RangeIndex: 1092 entries, 0 to 1091\n",
      "Data columns (total 11 columns):\n",
      " #   Column         Non-Null Count  Dtype         \n",
      "---  ------         --------------  -----         \n",
      " 0   timestamp      1092 non-null   datetime64[ns]\n",
      " 1   item_CB        1092 non-null   uint8         \n",
      " 2   item_CR        1092 non-null   uint8         \n",
      " 3   item_RD        1092 non-null   uint8         \n",
      " 4   item_TG        1092 non-null   uint8         \n",
      " 5   corporation_B  1092 non-null   uint8         \n",
      " 6   corporation_C  1092 non-null   uint8         \n",
      " 7   corporation_D  1092 non-null   uint8         \n",
      " 8   corporation_E  1092 non-null   uint8         \n",
      " 9   corporation_F  1092 non-null   uint8         \n",
      " 10  location_S     1092 non-null   uint8         \n",
      "dtypes: datetime64[ns](1), uint8(10)\n",
      "memory usage: 19.3 KB\n"
     ]
    }
   ],
   "source": [
    "test_data_encoded.info()"
   ]
  },
  {
   "cell_type": "code",
   "execution_count": 14,
   "id": "ef7b5371",
   "metadata": {},
   "outputs": [
    {
     "data": {
      "text/plain": [
       "871424.2935291417"
      ]
     },
     "execution_count": 14,
     "metadata": {},
     "output_type": "execute_result"
    }
   ],
   "source": [
    "# 최적의 하이퍼파라미터로 랜덤 포레스트 모델을 초기화합니다.\n",
    "rf_model_tuned = RandomForestRegressor(\n",
    "    n_estimators=best_params_reduced['n_estimators'],\n",
    "    min_samples_split=best_params_reduced['min_samples_split'],\n",
    "    min_samples_leaf=best_params_reduced['min_samples_leaf'],\n",
    "    max_depth=best_params_reduced['max_depth'],\n",
    "    bootstrap=best_params_reduced['bootstrap'],\n",
    "    random_state=42\n",
    ")\n",
    "\n",
    "# 모델을 훈련 데이터에 맞추어 훈련합니다.\n",
    "rf_model_tuned.fit(X_train_split, y_train_split)\n",
    "\n",
    "# 검증 데이터에 대한 예측을 수행합니다.\n",
    "y_val_pred_tuned = rf_model_tuned.predict(X_val_split)\n",
    "\n",
    "# 평균 제곱 오차(MSE)를 계산합니다.\n",
    "mse_tuned = mean_squared_error(y_val_split, y_val_pred_tuned)\n",
    "\n",
    "mse_tuned\n"
   ]
  },
  {
   "cell_type": "code",
   "execution_count": 15,
   "id": "1f26e58c",
   "metadata": {},
   "outputs": [
    {
     "data": {
      "text/plain": [
       "0.8216198130963452"
      ]
     },
     "execution_count": 15,
     "metadata": {},
     "output_type": "execute_result"
    }
   ],
   "source": [
    "from sklearn.metrics import r2_score\n",
    "\n",
    "# 검증 데이터에 대한 R^2 점수를 계산합니다.\n",
    "r2_score_val_tuned = r2_score(y_val_split, y_val_pred_tuned)\n",
    "\n",
    "r2_score_val_tuned\n"
   ]
  },
  {
   "cell_type": "code",
   "execution_count": 16,
   "id": "fb85bddd",
   "metadata": {},
   "outputs": [
    {
     "name": "stderr",
     "output_type": "stream",
     "text": [
      "C:\\Users\\82106\\anaconda3\\lib\\site-packages\\xgboost\\sklearn.py:885: UserWarning: `early_stopping_rounds` in `fit` method is deprecated for better compatibility with scikit-learn, use `early_stopping_rounds` in constructor or`set_params` instead.\n",
      "  warnings.warn(\n"
     ]
    },
    {
     "data": {
      "text/plain": [
       "(858.8400388896616, 0.8490123181024123)"
      ]
     },
     "execution_count": 16,
     "metadata": {},
     "output_type": "execute_result"
    }
   ],
   "source": [
    "from xgboost import XGBRegressor\n",
    "\n",
    "# XGBoost 모델을 초기화하고 훈련을 위한 하이퍼파라미터를 설정합니다.\n",
    "# n_estimators를 줄이고 early_stopping_rounds를 사용하여 조기 중단을 설정합니다.\n",
    "xgb_model_reduced = XGBRegressor(\n",
    "    n_estimators=100,  # 트리의 개수를 줄임\n",
    "    random_state=42,\n",
    "    verbosity=0  # 출력 메시지 제어\n",
    ")\n",
    "\n",
    "# 조기 중단을 위한 평가 세트를 설정합니다.\n",
    "eval_set = [(X_val_split, y_val_split)]\n",
    "\n",
    "# 모델을 훈련합니다.\n",
    "xgb_model_reduced.fit(\n",
    "    X_train_split,\n",
    "    y_train_split,\n",
    "    early_stopping_rounds=10,  # 10 라운드 동안 성능 향상이 없으면 조기 중단\n",
    "    eval_set=eval_set,\n",
    "    verbose=False  # 훈련 과정 중 메시지 출력을 하지 않습니다.\n",
    ")\n",
    "\n",
    "# 검증 데이터셋에서의 예측을 수행합니다.\n",
    "y_val_pred_xgb_reduced = xgb_model_reduced.predict(X_val_split)\n",
    "\n",
    "# 평균 제곱근 오차(RMSE)를 계산합니다.\n",
    "rmse_xgb_reduced = mean_squared_error(y_val_split, y_val_pred_xgb_reduced, squared=False)\n",
    "\n",
    "# R^2 (결정 계수)를 계산합니다.\n",
    "r2_xgb_reduced = r2_score(y_val_split, y_val_pred_xgb_reduced)\n",
    "\n",
    "rmse_xgb_reduced, r2_xgb_reduced\n"
   ]
  },
  {
   "cell_type": "code",
   "execution_count": 17,
   "id": "9fd831cd",
   "metadata": {},
   "outputs": [
    {
     "data": {
      "text/plain": [
       "array([6038.4106, 6038.4106, 6038.4106, 6038.4106, 6038.4106, 6038.4106,\n",
       "       6038.4106, 6038.4106, 6038.4106, 6038.4106], dtype=float32)"
      ]
     },
     "execution_count": 17,
     "metadata": {},
     "output_type": "execute_result"
    }
   ],
   "source": [
    "# 최종 예측을 위해 테스트 데이터를 준비합니다.\n",
    "\n",
    "# 이미 훈련 데이터셋에서 사용한 동일한 전처리를 적용해야 합니다.\n",
    "# 테스트 데이터에서 더미 변수 생성\n",
    "X_test = dataframes['test'].drop(columns=['ID', 'timestamp'])\n",
    "X_test = pd.get_dummies(X_test, columns=['item', 'corporation', 'location'])\n",
    "\n",
    "# 훈련 데이터에 있는 모든 더미 변수가 테스트 데이터에도 포함되도록 합니다.\n",
    "X_test_aligned = X_train.align(X_test, join='left', axis=1, fill_value=0)[1]\n",
    "\n",
    "# XGBoost 모델을 사용하여 테스트 데이터셋에 대한 최종 예측을 수행합니다.\n",
    "y_test_pred = xgb_model_reduced.predict(X_test_aligned)\n",
    "\n",
    "# 예측된 값들을 확인합니다.\n",
    "y_test_pred[:10]  # 처음 10개의 예측값을 출력합니다.\n",
    "\n"
   ]
  },
  {
   "cell_type": "code",
   "execution_count": 20,
   "id": "7528442b",
   "metadata": {},
   "outputs": [
    {
     "ename": "ValueError",
     "evalue": "feature_names mismatch: ['supply(kg)', 'item_BC', 'item_CB', 'item_CR', 'item_RD', 'item_TG', 'corporation_A', 'corporation_B', 'corporation_C', 'corporation_D', 'corporation_E', 'corporation_F', 'location_J', 'location_S'] ['item_BC', 'item_CB', 'item_CR', 'item_RD', 'item_TG', 'corporation_A', 'corporation_B', 'corporation_C', 'corporation_D', 'corporation_E', 'corporation_F', 'location_J', 'location_S']\nexpected supply(kg) in input data",
     "output_type": "error",
     "traceback": [
      "\u001b[1;31m---------------------------------------------------------------------------\u001b[0m",
      "\u001b[1;31mValueError\u001b[0m                                Traceback (most recent call last)",
      "Input \u001b[1;32mIn [20]\u001b[0m, in \u001b[0;36m<cell line: 8>\u001b[1;34m()\u001b[0m\n\u001b[0;32m      4\u001b[0m sample_submission \u001b[38;5;241m=\u001b[39m pd\u001b[38;5;241m.\u001b[39mread_csv(\u001b[38;5;124m'\u001b[39m\u001b[38;5;124msample_submission.csv\u001b[39m\u001b[38;5;124m'\u001b[39m)\n\u001b[0;32m      7\u001b[0m \u001b[38;5;66;03m# 테스트 데이터셋에 대한 예측을 수행합니다.\u001b[39;00m\n\u001b[1;32m----> 8\u001b[0m y_test_pred \u001b[38;5;241m=\u001b[39m \u001b[43mxgb_model_reduced\u001b[49m\u001b[38;5;241;43m.\u001b[39;49m\u001b[43mpredict\u001b[49m\u001b[43m(\u001b[49m\u001b[43mX_test\u001b[49m\u001b[43m)\u001b[49m\n\u001b[0;32m     10\u001b[0m \u001b[38;5;66;03m# 예측 결과를 sample_submission 데이터프레임의 'price(원/kg)' 컬럼에 저장합니다.\u001b[39;00m\n\u001b[0;32m     11\u001b[0m sample_submission[\u001b[38;5;124m'\u001b[39m\u001b[38;5;124mprice(원/kg)\u001b[39m\u001b[38;5;124m'\u001b[39m] \u001b[38;5;241m=\u001b[39m y_test_pred\n",
      "File \u001b[1;32m~\\anaconda3\\lib\\site-packages\\xgboost\\sklearn.py:1164\u001b[0m, in \u001b[0;36mXGBModel.predict\u001b[1;34m(self, X, output_margin, validate_features, base_margin, iteration_range)\u001b[0m\n\u001b[0;32m   1162\u001b[0m \u001b[38;5;28;01mif\u001b[39;00m \u001b[38;5;28mself\u001b[39m\u001b[38;5;241m.\u001b[39m_can_use_inplace_predict():\n\u001b[0;32m   1163\u001b[0m     \u001b[38;5;28;01mtry\u001b[39;00m:\n\u001b[1;32m-> 1164\u001b[0m         predts \u001b[38;5;241m=\u001b[39m \u001b[38;5;28;43mself\u001b[39;49m\u001b[38;5;241;43m.\u001b[39;49m\u001b[43mget_booster\u001b[49m\u001b[43m(\u001b[49m\u001b[43m)\u001b[49m\u001b[38;5;241;43m.\u001b[39;49m\u001b[43minplace_predict\u001b[49m\u001b[43m(\u001b[49m\n\u001b[0;32m   1165\u001b[0m \u001b[43m            \u001b[49m\u001b[43mdata\u001b[49m\u001b[38;5;241;43m=\u001b[39;49m\u001b[43mX\u001b[49m\u001b[43m,\u001b[49m\n\u001b[0;32m   1166\u001b[0m \u001b[43m            \u001b[49m\u001b[43miteration_range\u001b[49m\u001b[38;5;241;43m=\u001b[39;49m\u001b[43miteration_range\u001b[49m\u001b[43m,\u001b[49m\n\u001b[0;32m   1167\u001b[0m \u001b[43m            \u001b[49m\u001b[43mpredict_type\u001b[49m\u001b[38;5;241;43m=\u001b[39;49m\u001b[38;5;124;43m\"\u001b[39;49m\u001b[38;5;124;43mmargin\u001b[39;49m\u001b[38;5;124;43m\"\u001b[39;49m\u001b[43m \u001b[49m\u001b[38;5;28;43;01mif\u001b[39;49;00m\u001b[43m \u001b[49m\u001b[43moutput_margin\u001b[49m\u001b[43m \u001b[49m\u001b[38;5;28;43;01melse\u001b[39;49;00m\u001b[43m \u001b[49m\u001b[38;5;124;43m\"\u001b[39;49m\u001b[38;5;124;43mvalue\u001b[39;49m\u001b[38;5;124;43m\"\u001b[39;49m\u001b[43m,\u001b[49m\n\u001b[0;32m   1168\u001b[0m \u001b[43m            \u001b[49m\u001b[43mmissing\u001b[49m\u001b[38;5;241;43m=\u001b[39;49m\u001b[38;5;28;43mself\u001b[39;49m\u001b[38;5;241;43m.\u001b[39;49m\u001b[43mmissing\u001b[49m\u001b[43m,\u001b[49m\n\u001b[0;32m   1169\u001b[0m \u001b[43m            \u001b[49m\u001b[43mbase_margin\u001b[49m\u001b[38;5;241;43m=\u001b[39;49m\u001b[43mbase_margin\u001b[49m\u001b[43m,\u001b[49m\n\u001b[0;32m   1170\u001b[0m \u001b[43m            \u001b[49m\u001b[43mvalidate_features\u001b[49m\u001b[38;5;241;43m=\u001b[39;49m\u001b[43mvalidate_features\u001b[49m\u001b[43m,\u001b[49m\n\u001b[0;32m   1171\u001b[0m \u001b[43m        \u001b[49m\u001b[43m)\u001b[49m\n\u001b[0;32m   1172\u001b[0m         \u001b[38;5;28;01mif\u001b[39;00m _is_cupy_array(predts):\n\u001b[0;32m   1173\u001b[0m             \u001b[38;5;28;01mimport\u001b[39;00m \u001b[38;5;21;01mcupy\u001b[39;00m  \u001b[38;5;66;03m# pylint: disable=import-error\u001b[39;00m\n",
      "File \u001b[1;32m~\\anaconda3\\lib\\site-packages\\xgboost\\core.py:2416\u001b[0m, in \u001b[0;36mBooster.inplace_predict\u001b[1;34m(self, data, iteration_range, predict_type, missing, validate_features, base_margin, strict_shape)\u001b[0m\n\u001b[0;32m   2414\u001b[0m     data, fns, _ \u001b[38;5;241m=\u001b[39m _transform_pandas_df(data, enable_categorical)\n\u001b[0;32m   2415\u001b[0m     \u001b[38;5;28;01mif\u001b[39;00m validate_features:\n\u001b[1;32m-> 2416\u001b[0m         \u001b[38;5;28;43mself\u001b[39;49m\u001b[38;5;241;43m.\u001b[39;49m\u001b[43m_validate_features\u001b[49m\u001b[43m(\u001b[49m\u001b[43mfns\u001b[49m\u001b[43m)\u001b[49m\n\u001b[0;32m   2417\u001b[0m \u001b[38;5;28;01mif\u001b[39;00m _is_list(data) \u001b[38;5;129;01mor\u001b[39;00m _is_tuple(data):\n\u001b[0;32m   2418\u001b[0m     data \u001b[38;5;241m=\u001b[39m np\u001b[38;5;241m.\u001b[39marray(data)\n",
      "File \u001b[1;32m~\\anaconda3\\lib\\site-packages\\xgboost\\core.py:2968\u001b[0m, in \u001b[0;36mBooster._validate_features\u001b[1;34m(self, feature_names)\u001b[0m\n\u001b[0;32m   2962\u001b[0m \u001b[38;5;28;01mif\u001b[39;00m my_missing:\n\u001b[0;32m   2963\u001b[0m     msg \u001b[38;5;241m+\u001b[39m\u001b[38;5;241m=\u001b[39m (\n\u001b[0;32m   2964\u001b[0m         \u001b[38;5;124m\"\u001b[39m\u001b[38;5;130;01m\\n\u001b[39;00m\u001b[38;5;124mtraining data did not have the following fields: \u001b[39m\u001b[38;5;124m\"\u001b[39m\n\u001b[0;32m   2965\u001b[0m         \u001b[38;5;241m+\u001b[39m \u001b[38;5;124m\"\u001b[39m\u001b[38;5;124m, \u001b[39m\u001b[38;5;124m\"\u001b[39m\u001b[38;5;241m.\u001b[39mjoin(\u001b[38;5;28mstr\u001b[39m(s) \u001b[38;5;28;01mfor\u001b[39;00m s \u001b[38;5;129;01min\u001b[39;00m my_missing)\n\u001b[0;32m   2966\u001b[0m     )\n\u001b[1;32m-> 2968\u001b[0m \u001b[38;5;28;01mraise\u001b[39;00m \u001b[38;5;167;01mValueError\u001b[39;00m(msg\u001b[38;5;241m.\u001b[39mformat(\u001b[38;5;28mself\u001b[39m\u001b[38;5;241m.\u001b[39mfeature_names, feature_names))\n",
      "\u001b[1;31mValueError\u001b[0m: feature_names mismatch: ['supply(kg)', 'item_BC', 'item_CB', 'item_CR', 'item_RD', 'item_TG', 'corporation_A', 'corporation_B', 'corporation_C', 'corporation_D', 'corporation_E', 'corporation_F', 'location_J', 'location_S'] ['item_BC', 'item_CB', 'item_CR', 'item_RD', 'item_TG', 'corporation_A', 'corporation_B', 'corporation_C', 'corporation_D', 'corporation_E', 'corporation_F', 'location_J', 'location_S']\nexpected supply(kg) in input data"
     ]
    }
   ],
   "source": [
    "import pandas as pd\n",
    "\n",
    "# sample_submission.csv 파일을 로드합니다.\n",
    "sample_submission = pd.read_csv('sample_submission.csv')\n",
    "\n",
    "\n",
    "# 테스트 데이터셋에 대한 예측을 수행합니다.\n",
    "y_test_pred = xgb_model_reduced.predict(X_test)\n",
    "\n",
    "# 예측 결과를 sample_submission 데이터프레임의 'price(원/kg)' 컬럼에 저장합니다.\n",
    "sample_submission['price(원/kg)'] = y_test_pred\n",
    "\n",
    "# 완성된 제출 파일을 CSV 파일로 저장합니다.\n",
    "submission_file_path = 'submission_2.csv'\n",
    "sample_submission.to_csv(submission_file_path, index=False)\n"
   ]
  },
  {
   "cell_type": "code",
   "execution_count": null,
   "id": "3ff51518",
   "metadata": {},
   "outputs": [],
   "source": []
  }
 ],
 "metadata": {
  "kernelspec": {
   "display_name": "Python 3 (ipykernel)",
   "language": "python",
   "name": "python3"
  },
  "language_info": {
   "codemirror_mode": {
    "name": "ipython",
    "version": 3
   },
   "file_extension": ".py",
   "mimetype": "text/x-python",
   "name": "python",
   "nbconvert_exporter": "python",
   "pygments_lexer": "ipython3",
   "version": "3.9.12"
  }
 },
 "nbformat": 4,
 "nbformat_minor": 5
}
