{
 "cells": [
  {
   "cell_type": "code",
   "execution_count": 45,
   "id": "c14b985b",
   "metadata": {},
   "outputs": [
    {
     "name": "stdout",
     "output_type": "stream",
     "text": [
      "international_trade 데이터의 처음 5줄:\n",
      "        기간                        품목명   수출 중량  수출 금액    수입 중량  수입 금액  무역수지\n",
      "0  2019-01  토마토(신선한 것이나 냉장한 것으로 한정한다)  356571    990        0      0   990\n",
      "1  2019-01                         양파  821330    222  4003206   1118  -896\n",
      "2  2019-01                         쪽파      60      1    93405    128  -127\n",
      "3  2019-01       꽃양배추와 브로콜리(broccoli)     160      1   638913    563  -562\n",
      "4  2019-01                  방울다다기 양배추       0      0     7580     38   -38 \n",
      "\n",
      "test 데이터의 처음 5줄:\n",
      "                ID   timestamp item corporation location\n",
      "0  TG_A_J_20230304  2023-03-04   TG           A        J\n",
      "1  TG_A_J_20230305  2023-03-05   TG           A        J\n",
      "2  TG_A_J_20230306  2023-03-06   TG           A        J\n",
      "3  TG_A_J_20230307  2023-03-07   TG           A        J\n",
      "4  TG_A_J_20230308  2023-03-08   TG           A        J \n",
      "\n",
      "train 데이터의 처음 5줄:\n",
      "                ID   timestamp item corporation location  supply(kg)  \\\n",
      "0  TG_A_J_20190101  2019-01-01   TG           A        J         0.0   \n",
      "1  TG_A_J_20190102  2019-01-02   TG           A        J         0.0   \n",
      "2  TG_A_J_20190103  2019-01-03   TG           A        J     60601.0   \n",
      "3  TG_A_J_20190104  2019-01-04   TG           A        J     25000.0   \n",
      "4  TG_A_J_20190105  2019-01-05   TG           A        J     32352.0   \n",
      "\n",
      "   price(원/kg)  \n",
      "0          0.0  \n",
      "1          0.0  \n",
      "2       1728.0  \n",
      "3       1408.0  \n",
      "4       1250.0   \n",
      "\n",
      "sample_submission 데이터의 처음 5줄:\n",
      "                ID  answer\n",
      "0  TG_A_J_20230304       0\n",
      "1  TG_A_J_20230305       0\n",
      "2  TG_A_J_20230306       0\n",
      "3  TG_A_J_20230307       0\n",
      "4  TG_A_J_20230308       0 \n",
      "\n"
     ]
    }
   ],
   "source": [
    "import pandas as pd\n",
    "\n",
    "file_paths = {\n",
    "    'international_trade': 'international_trade.csv',\n",
    "    'test': 'test.csv',\n",
    "    'train': 'train.csv',\n",
    "    'sample_submission': 'sample_submission.csv'  # 여기에 콤마가 없으면 다음 줄에서 SyntaxError가 발생합니다.\n",
    "}\n",
    "\n",
    "\n",
    "# 각 파일을 데이터프레임으로 읽기\n",
    "dataframes = {name: pd.read_csv(path) for name, path in file_paths.items()}\n",
    "\n",
    "# 각 데이터프레임의 처음 5줄 출력\n",
    "for name, df in dataframes.items():\n",
    "    print(f\"{name} 데이터의 처음 5줄:\")\n",
    "    print(df.head(), \"\\n\")\n"
   ]
  },
  {
   "cell_type": "code",
   "execution_count": 2,
   "id": "fe01d4e1",
   "metadata": {},
   "outputs": [],
   "source": [
    "dataframes['international_trade']['timestamp'] = pd.to_datetime(dataframes['international_trade']['기간'], format='%Y-%m')\n",
    "train_timestamp_format = dataframes['train']['timestamp'].dtypes\n",
    "test_timestamp_format = dataframes['test']['timestamp'].dtypes\n"
   ]
  },
  {
   "cell_type": "code",
   "execution_count": 3,
   "id": "f5a371d1",
   "metadata": {},
   "outputs": [],
   "source": [
    "unique_trade_items = dataframes['international_trade']['품목명'].unique()\n",
    "unique_train_items = dataframes['train']['item'].unique()\n"
   ]
  },
  {
   "cell_type": "code",
   "execution_count": 5,
   "id": "4af0ab12",
   "metadata": {},
   "outputs": [],
   "source": [
    "monthly_trade_stats = dataframes['international_trade'].groupby(dataframes['international_trade']['timestamp'].dt.to_period('M')).agg({\n",
    "    '수출 중량': 'sum',\n",
    "    '수입 중량': 'sum',\n",
    "    '무역수지': 'sum'\n",
    "}).reset_index()\n",
    "\n",
    "monthly_trade_stats['timestamp'] = monthly_trade_stats['timestamp'].dt.to_timestamp()\n"
   ]
  },
  {
   "cell_type": "code",
   "execution_count": 7,
   "id": "7c8dfa71",
   "metadata": {},
   "outputs": [],
   "source": [
    "# 'train' 데이터프레임의 'timestamp' 컬럼을 datetime 타입으로 변환\n",
    "dataframes['train']['timestamp'] = pd.to_datetime(dataframes['train']['timestamp'])\n",
    "\n",
    "# 'test' 데이터프레임의 'timestamp' 컬럼을 datetime 타입으로 변환\n",
    "dataframes['test']['timestamp'] = pd.to_datetime(dataframes['test']['timestamp'])\n",
    "\n",
    "# 'monthly_trade_stats' 데이터프레임의 'timestamp' 컬럼을 datetime 타입으로 확인\n",
    "monthly_trade_stats['timestamp'] = pd.to_datetime(monthly_trade_stats['timestamp'])\n",
    "\n",
    "# 다시 병합을 시도합니다.\n",
    "train_with_stats = dataframes['train'].merge(monthly_trade_stats, on='timestamp', how='left')\n",
    "train_with_stats_filled = train_with_stats.fillna(method='ffill')\n",
    "test_with_stats = dataframes['test'].merge(monthly_trade_stats, on='timestamp', how='left')\n",
    "test_with_stats_filled = test_with_stats.fillna(method='ffill')\n"
   ]
  },
  {
   "cell_type": "code",
   "execution_count": 12,
   "id": "9d1937a4",
   "metadata": {},
   "outputs": [],
   "source": [
    "# 범주형 변수에 대해 원-핫 인코딩을 수행\n",
    "categorical_columns = ['item', 'corporation', 'location']\n",
    "train_encoded = pd.get_dummies(train_with_stats_filled, columns=categorical_columns)\n",
    "test_encoded = pd.get_dummies(test_with_stats_filled, columns=categorical_columns)\n",
    "\n",
    "# 'timestamp' 컬럼을 연도, 월, 일, 요일로 분해\n",
    "train_encoded['year'] = train_encoded['timestamp'].dt.year\n",
    "train_encoded['month'] = train_encoded['timestamp'].dt.month\n",
    "train_encoded['day'] = train_encoded['timestamp'].dt.day\n",
    "train_encoded['weekday'] = train_encoded['timestamp'].dt.weekday\n",
    "\n",
    "# 원래의 'timestamp' 컬럼은 제거\n",
    "train_encoded.drop('timestamp', axis=1, inplace=True)\n",
    "\n",
    "# 테스트 데이터에 대해서도 동일한 처리를 수행\n",
    "test_encoded['year'] = test_encoded['timestamp'].dt.year\n",
    "test_encoded['month'] = test_encoded['timestamp'].dt.month\n",
    "test_encoded['day'] = test_encoded['timestamp'].dt.day\n",
    "test_encoded['weekday'] = test_encoded['timestamp'].dt.weekday\n",
    "\n",
    "# 테스트 데이터에서도 'timestamp' 컬럼은 제거\n",
    "test_encoded.drop('timestamp', axis=1, inplace=True)\n",
    "\n"
   ]
  },
  {
   "cell_type": "code",
   "execution_count": 22,
   "id": "33576be9",
   "metadata": {},
   "outputs": [
    {
     "data": {
      "text/plain": [
       "0.4545410911883372"
      ]
     },
     "execution_count": 22,
     "metadata": {},
     "output_type": "execute_result"
    }
   ],
   "source": [
    "from sklearn.model_selection import train_test_split\n",
    "\n",
    "# train_encoded 데이터를 학습 세트와 검증 세트로 분할\n",
    "X = train_encoded.drop(columns=['price(원/kg)', 'ID', 'supply(kg)'], errors='ignore')\n",
    "y = train_encoded['price(원/kg)']\n",
    "X_train, X_valid, y_train, y_valid = train_test_split(X, y, test_size=0.2, random_state=42)\n",
    "\n",
    "model = XGBRegressor(\n",
    "    n_estimators=10,  # 트리의 개수\n",
    "    max_depth=3,      # 트리의 최대 깊이\n",
    "    learning_rate=0.1,  # 학습률\n",
    "    colsample_bytree=0.8,  # 트리를 구성할 때 특성 샘플링 비율\n",
    "    subsample=0.8,  # 개별 트리를 훈련할 때 사용할 샘플 비율\n",
    "    objective='reg:squarederror',  # 회귀 문제의 경우 'reg:squarederror' 사용\n",
    "    random_state=42  # 결과의 재현성을 위한 랜덤 시드 설정\n",
    ")\n",
    "\n",
    "\n",
    "# 모델 학습\n",
    "model.fit(X_train, y_train)\n",
    "\n",
    "# 검증 세트에 대한 예측 수행\n",
    "y_valid_pred = model.predict(X_valid)\n",
    "\n",
    "# R^2 score 계산\n",
    "r2_valid = r2_score(y_valid, y_valid_pred)\n",
    "\n",
    "r2_valid\n"
   ]
  },
  {
   "cell_type": "code",
   "execution_count": 23,
   "id": "801f5530",
   "metadata": {},
   "outputs": [
    {
     "data": {
      "text/plain": [
       "array([1737.754  ,  595.689  ,  311.24188, ...,  373.00488,  364.01953,\n",
       "        755.2709 ], dtype=float32)"
      ]
     },
     "execution_count": 23,
     "metadata": {},
     "output_type": "execute_result"
    }
   ],
   "source": [
    "y_valid_pred"
   ]
  },
  {
   "cell_type": "code",
   "execution_count": 26,
   "id": "bee96daf",
   "metadata": {},
   "outputs": [
    {
     "data": {
      "text/plain": [
       "0.7877340239557924"
      ]
     },
     "execution_count": 26,
     "metadata": {},
     "output_type": "execute_result"
    }
   ],
   "source": [
    "# 모델 하이퍼파라미터를 증가시켜 재정의\n",
    "model_improved = XGBRegressor(\n",
    "    n_estimators=100,  # 트리의 개수를 증가\n",
    "    max_depth=6,       # 트리의 깊이를 증가\n",
    "    learning_rate=0.1,\n",
    "    colsample_bytree=0.8,\n",
    "    subsample=0.8,\n",
    "    objective='reg:squarederror',\n",
    "    random_state=42\n",
    ")\n",
    "\n",
    "# 모델 학습\n",
    "model_improved.fit(X_train, y_train)\n",
    "\n",
    "# 검증 세트에 대한 예측 수행\n",
    "y_valid_pred = model_improved.predict(X_valid)\n",
    "\n",
    "# R^2 score 계산\n",
    "r2_valid = r2_score(y_valid, y_valid_pred)\n",
    "\n",
    "r2_valid\n",
    "\n"
   ]
  },
  {
   "cell_type": "code",
   "execution_count": 19,
   "id": "07eeecb7",
   "metadata": {},
   "outputs": [
    {
     "data": {
      "text/plain": [
       "array([1113.9861 , -819.16364,  991.283  , ...,  424.7689 ,  387.96146,\n",
       "        399.87335], dtype=float32)"
      ]
     },
     "execution_count": 19,
     "metadata": {},
     "output_type": "execute_result"
    }
   ],
   "source": [
    "y_test_pred_improved"
   ]
  },
  {
   "cell_type": "code",
   "execution_count": 38,
   "id": "929496ef",
   "metadata": {},
   "outputs": [
    {
     "name": "stdout",
     "output_type": "stream",
     "text": [
      "Fitting 3 folds for each of 32 candidates, totalling 96 fits\n"
     ]
    },
    {
     "data": {
      "text/plain": [
       "{'colsample_bytree': 1.0,\n",
       " 'learning_rate': 0.05,\n",
       " 'max_depth': 5,\n",
       " 'n_estimators': 80,\n",
       " 'subsample': 0.5}"
      ]
     },
     "execution_count": 38,
     "metadata": {},
     "output_type": "execute_result"
    }
   ],
   "source": [
    "# 모델 초기화\n",
    "xgb_model = XGBRegressor(random_state=42)\n",
    "\n",
    "# 제공된 모델 설정을 바탕으로 그리드 서치 파라미터 범위 설정\n",
    "# 더 넓은 범위에서 성능이 좋을 가능성이 있는 값을 포함\n",
    "param_grid = {\n",
    "    'n_estimators': [80, 150],  # 주어진 모델보다 낮은 값을 포함하여 비교\n",
    "    'max_depth': [5, 7],         # 주어진 모델의 값과 비슷하거나 더 높은 값을 포함\n",
    "    'learning_rate': [0.05, 0.15],  # 학습률을 조금 더 높여 볼 수 있음\n",
    "    'colsample_bytree': [0.6, 1.0],  # 모든 컬럼을 사용하는 경우 포함\n",
    "    'subsample': [0.5, 1.0]         # 행의 샘플링 비율도 조정\n",
    "}\n",
    "\n",
    "# 그리드 서치 객체 초기화\n",
    "grid_search = GridSearchCV(\n",
    "    estimator=xgb_model,\n",
    "    param_grid=param_grid,\n",
    "    cv=3,                # 3-fold cross-validation\n",
    "    scoring='r2',        # R^2 score를 기준으로 최적화\n",
    "    verbose=1,           # 진행 상황에 대한 상세 출력\n",
    "    n_jobs=-1            # 모든 CPU 코어 사용\n",
    ")\n",
    "\n",
    "# 학습 데이터 준비\n",
    "X = train_encoded.drop(columns=['price(원/kg)', 'ID', 'supply(kg)'], errors='ignore')\n",
    "y = train_encoded['price(원/kg)']\n",
    "\n",
    "# 그리드 서치 실행\n",
    "grid_search.fit(X, y)\n",
    "\n",
    "# 결과 출력: 최적의 파라미터와 해당할 때의 R^2 스코어\n",
    "best_parameters = grid_search.best_params_\n",
    "\n",
    "\n",
    "best_parameters\n"
   ]
  },
  {
   "cell_type": "code",
   "execution_count": 39,
   "id": "1a64458d",
   "metadata": {},
   "outputs": [
    {
     "data": {
      "text/plain": [
       "0.745589674049661"
      ]
     },
     "execution_count": 39,
     "metadata": {},
     "output_type": "execute_result"
    }
   ],
   "source": [
    "from sklearn.model_selection import train_test_split\n",
    "from sklearn.metrics import r2_score\n",
    "\n",
    "# 데이터 준비\n",
    "# X와 y를 정의하는 코드는 이전에 실행한 코드와 동일하게 사용해야 합니다.\n",
    "# X_train, X_valid, y_train, y_valid을 정의하는 코드 역시 이전에 실행한 코드를 그대로 사용해야 합니다.\n",
    "\n",
    "# 최적의 하이퍼파라미터로 모델을 정의합니다 (best_parameters는 그리드 서치의 결과를 사용해야 함)\n",
    "model = XGBRegressor(\n",
    "    n_estimators=best_parameters['n_estimators'],\n",
    "    max_depth=best_parameters['max_depth'],\n",
    "    learning_rate=best_parameters['learning_rate'],\n",
    "    colsample_bytree=best_parameters['colsample_bytree'],\n",
    "    subsample=best_parameters['subsample'],\n",
    "    objective='reg:squarederror',\n",
    "    random_state=42\n",
    ")\n",
    "\n",
    "# 모델을 학습 세트에 학습시킵니다 (X_train과 y_train을 이전 코드에서 정의)\n",
    "model.fit(X_train, y_train)\n",
    "\n",
    "# 검증 세트에 대한 예측을 수행합니다 (X_valid는 이전 코드에서 정의)\n",
    "y_valid_pred = model.predict(X_valid)\n",
    "\n",
    "# R^2 스코어로 모델을 평가합니다 (y_valid는 이전 코드에서 정의)\n",
    "r2 = r2_score(y_valid, y_valid_pred)\n",
    "\n",
    "r2\n"
   ]
  },
  {
   "cell_type": "code",
   "execution_count": 47,
   "id": "a54a62fc",
   "metadata": {},
   "outputs": [],
   "source": [
    "import pandas as pd\n",
    "\n",
    "# sample_submission.csv 파일을 로드합니다.\n",
    "sample_submission = pd.read_csv('sample_submission.csv')\n",
    "\n",
    "# test_encoded 데이터셋에서 'ID' 컬럼을 제외합니다.\n",
    "X_test = test_encoded.drop(columns=['ID'])\n",
    "\n",
    "# 테스트 데이터셋에 대한 예측을 수행합니다.\n",
    "y_test_pred = model_improved.predict(X_test)\n",
    "\n",
    "# 예측 결과를 sample_submission 데이터프레임의 'price(원/kg)' 컬럼에 저장합니다.\n",
    "sample_submission['price(원/kg)'] = y_test_pred\n",
    "\n",
    "# 완성된 제출 파일을 CSV 파일로 저장합니다.\n",
    "submission_file_path = 'submission.csv'\n",
    "sample_submission.to_csv(submission_file_path, index=False)\n"
   ]
  },
  {
   "cell_type": "code",
   "execution_count": null,
   "id": "76099968",
   "metadata": {},
   "outputs": [],
   "source": []
  }
 ],
 "metadata": {
  "kernelspec": {
   "display_name": "Python 3 (ipykernel)",
   "language": "python",
   "name": "python3"
  },
  "language_info": {
   "codemirror_mode": {
    "name": "ipython",
    "version": 3
   },
   "file_extension": ".py",
   "mimetype": "text/x-python",
   "name": "python",
   "nbconvert_exporter": "python",
   "pygments_lexer": "ipython3",
   "version": "3.9.12"
  }
 },
 "nbformat": 4,
 "nbformat_minor": 5
}
