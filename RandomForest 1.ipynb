{
 "cells": [
  {
   "cell_type": "markdown",
   "id": "e69f140b",
   "metadata": {},
   "source": [
    "### 데이터 불러오기"
   ]
  },
  {
   "cell_type": "code",
   "execution_count": 7,
   "id": "a3757cd4",
   "metadata": {},
   "outputs": [
    {
     "name": "stdout",
     "output_type": "stream",
     "text": [
      "<class 'pandas.core.frame.DataFrame'>\n",
      "RangeIndex: 59397 entries, 0 to 59396\n",
      "Data columns (total 7 columns):\n",
      " #   Column       Non-Null Count  Dtype  \n",
      "---  ------       --------------  -----  \n",
      " 0   ID           59397 non-null  object \n",
      " 1   timestamp    59397 non-null  object \n",
      " 2   item         59397 non-null  object \n",
      " 3   corporation  59397 non-null  object \n",
      " 4   location     59397 non-null  object \n",
      " 5   supply(kg)   59397 non-null  float64\n",
      " 6   price(원/kg)  59397 non-null  float64\n",
      "dtypes: float64(2), object(5)\n",
      "memory usage: 3.2+ MB\n"
     ]
    },
    {
     "data": {
      "text/plain": [
       "(                ID   timestamp item corporation location  supply(kg)  \\\n",
       " 0  TG_A_J_20190101  2019-01-01   TG           A        J         0.0   \n",
       " 1  TG_A_J_20190102  2019-01-02   TG           A        J         0.0   \n",
       " 2  TG_A_J_20190103  2019-01-03   TG           A        J     60601.0   \n",
       " 3  TG_A_J_20190104  2019-01-04   TG           A        J     25000.0   \n",
       " 4  TG_A_J_20190105  2019-01-05   TG           A        J     32352.0   \n",
       " \n",
       "    price(원/kg)  \n",
       " 0          0.0  \n",
       " 1          0.0  \n",
       " 2       1728.0  \n",
       " 3       1408.0  \n",
       " 4       1250.0  ,\n",
       "                 ID   timestamp item corporation location\n",
       " 0  TG_A_J_20230304  2023-03-04   TG           A        J\n",
       " 1  TG_A_J_20230305  2023-03-05   TG           A        J\n",
       " 2  TG_A_J_20230306  2023-03-06   TG           A        J\n",
       " 3  TG_A_J_20230307  2023-03-07   TG           A        J\n",
       " 4  TG_A_J_20230308  2023-03-08   TG           A        J,\n",
       "         기간                        품목명   수출 중량  수출 금액    수입 중량  수입 금액  무역수지\n",
       " 0  2019-01  토마토(신선한 것이나 냉장한 것으로 한정한다)  356571    990        0      0   990\n",
       " 1  2019-01                         양파  821330    222  4003206   1118  -896\n",
       " 2  2019-01                         쪽파      60      1    93405    128  -127\n",
       " 3  2019-01       꽃양배추와 브로콜리(broccoli)     160      1   638913    563  -562\n",
       " 4  2019-01                  방울다다기 양배추       0      0     7580     38   -38,\n",
       "                 ID  answer\n",
       " 0  TG_A_J_20230304       0\n",
       " 1  TG_A_J_20230305       0\n",
       " 2  TG_A_J_20230306       0\n",
       " 3  TG_A_J_20230307       0\n",
       " 4  TG_A_J_20230308       0,\n",
       "          supply(kg)   price(원/kg)\n",
       " count  5.939700e+04  59397.000000\n",
       " mean   1.189453e+04   1131.680674\n",
       " std    5.226400e+04   2029.941445\n",
       " min    0.000000e+00      0.000000\n",
       " 25%    0.000000e+00      0.000000\n",
       " 50%    0.000000e+00      0.000000\n",
       " 75%    3.800000e+03   1519.000000\n",
       " max    1.222800e+06  20909.000000,\n",
       " None,\n",
       " ID             0\n",
       " timestamp      0\n",
       " item           0\n",
       " corporation    0\n",
       " location       0\n",
       " supply(kg)     0\n",
       " price(원/kg)    0\n",
       " dtype: int64)"
      ]
     },
     "execution_count": 7,
     "metadata": {},
     "output_type": "execute_result"
    }
   ],
   "source": [
    "import pandas as pd\n",
    "\n",
    "# 파일 경로 설정\n",
    "train_path = 'C:/Users/82106/Desktop/제주도 과일 공모전/data/train.csv'\n",
    "test_path = 'C:/Users/82106/Desktop\\제주도 과일 공모전/data/test.csv'\n",
    "trade_path = 'C:/Users/82106/Desktop\\제주도 과일 공모전/data/international_trade.csv'\n",
    "sample_submission_path = 'C:/Users/82106/Desktop\\제주도 과일 공모전/data/sample_submission.csv'\n",
    "\n",
    "# 데이터 불러오기\n",
    "train_data = pd.read_csv(train_path)\n",
    "test_data = pd.read_csv(test_path)\n",
    "trade_data = pd.read_csv(trade_path)\n",
    "sample_submission = pd.read_csv(sample_submission_path)\n",
    "\n",
    "# 데이터의 첫 5행 확인\n",
    "train_head = train_data.head()\n",
    "test_head = test_data.head()\n",
    "trade_head = trade_data.head()\n",
    "sample_submission_head = sample_submission.head()\n",
    "\n",
    "# 데이터의 기본 통계량 확인\n",
    "train_description = train_data.describe()\n",
    "\n",
    "# 데이터의 결측치 및 데이터 타입 확인\n",
    "train_info = train_data.info()\n",
    "train_missing_values = train_data.isnull().sum()\n",
    "\n",
    "(train_head, test_head, trade_head, sample_submission_head, train_description, train_info, train_missing_values)\n"
   ]
  },
  {
   "cell_type": "markdown",
   "id": "e10c4b46",
   "metadata": {},
   "source": [
    "### 상관관계 히트맵"
   ]
  },
  {
   "cell_type": "code",
   "execution_count": 8,
   "id": "699ba597",
   "metadata": {},
   "outputs": [
    {
     "name": "stderr",
     "output_type": "stream",
     "text": [
      "C:\\Users\\82106\\anaconda3\\lib\\site-packages\\seaborn\\utils.py:95: UserWarning: Glyph 50896 (\\N{HANGUL SYLLABLE WEON}) missing from current font.\n",
      "  fig.canvas.draw()\n",
      "C:\\Users\\82106\\anaconda3\\lib\\site-packages\\IPython\\core\\pylabtools.py:151: UserWarning: Glyph 50896 (\\N{HANGUL SYLLABLE WEON}) missing from current font.\n",
      "  fig.canvas.print_figure(bytes_io, **kw)\n"
     ]
    },
    {
     "data": {
      "image/png": "[encoded data removed]",
      "text/plain": [
       "<Figure size 720x576 with 2 Axes>"
      ]
     },
     "metadata": {
      "needs_background": "light"
     },
     "output_type": "display_data"
    }
   ],
   "source": [
    "import matplotlib.pyplot as plt\n",
    "import seaborn as sns\n",
    "\n",
    "# 타겟 변수 'price(원/kg)'와 다른 수치형 특성들 간의 상관관계 분석\n",
    "correlation_matrix = train_data.corr()\n",
    "\n",
    "# 상관관계 히트맵 그리기\n",
    "plt.figure(figsize=(10, 8))\n",
    "sns.heatmap(correlation_matrix, annot=True, fmt=\".2f\", cmap='coolwarm')\n",
    "plt.title('Feature Correlation Heatmap')\n",
    "plt.show()\n"
   ]
  },
  {
   "cell_type": "markdown",
   "id": "6c1ca62c",
   "metadata": {},
   "source": [
    "### 데이터 전처리, 스케일링"
   ]
  },
  {
   "cell_type": "code",
   "execution_count": 9,
   "id": "94e8412c",
   "metadata": {},
   "outputs": [
    {
     "data": {
      "text/html": [
       "<div>\n",
       "<style scoped>\n",
       "    .dataframe tbody tr th:only-of-type {\n",
       "        vertical-align: middle;\n",
       "    }\n",
       "\n",
       "    .dataframe tbody tr th {\n",
       "        vertical-align: top;\n",
       "    }\n",
       "\n",
       "    .dataframe thead th {\n",
       "        text-align: right;\n",
       "    }\n",
       "</style>\n",
       "<table border=\"1\" class=\"dataframe\">\n",
       "  <thead>\n",
       "    <tr style=\"text-align: right;\">\n",
       "      <th></th>\n",
       "      <th>price(원/kg)</th>\n",
       "      <th>year</th>\n",
       "      <th>month</th>\n",
       "      <th>day</th>\n",
       "      <th>dayofweek</th>\n",
       "      <th>item_BC</th>\n",
       "      <th>item_CB</th>\n",
       "      <th>item_CR</th>\n",
       "      <th>item_RD</th>\n",
       "      <th>item_TG</th>\n",
       "      <th>corporation_A</th>\n",
       "      <th>corporation_B</th>\n",
       "      <th>corporation_C</th>\n",
       "      <th>corporation_D</th>\n",
       "      <th>corporation_E</th>\n",
       "      <th>corporation_F</th>\n",
       "      <th>location_J</th>\n",
       "      <th>location_S</th>\n",
       "      <th>supply(kg)_scaled</th>\n",
       "    </tr>\n",
       "  </thead>\n",
       "  <tbody>\n",
       "    <tr>\n",
       "      <th>0</th>\n",
       "      <td>0.0</td>\n",
       "      <td>2019</td>\n",
       "      <td>1</td>\n",
       "      <td>1</td>\n",
       "      <td>1</td>\n",
       "      <td>0</td>\n",
       "      <td>0</td>\n",
       "      <td>0</td>\n",
       "      <td>0</td>\n",
       "      <td>1</td>\n",
       "      <td>1</td>\n",
       "      <td>0</td>\n",
       "      <td>0</td>\n",
       "      <td>0</td>\n",
       "      <td>0</td>\n",
       "      <td>0</td>\n",
       "      <td>1</td>\n",
       "      <td>0</td>\n",
       "      <td>-0.227587</td>\n",
       "    </tr>\n",
       "    <tr>\n",
       "      <th>1</th>\n",
       "      <td>0.0</td>\n",
       "      <td>2019</td>\n",
       "      <td>1</td>\n",
       "      <td>2</td>\n",
       "      <td>2</td>\n",
       "      <td>0</td>\n",
       "      <td>0</td>\n",
       "      <td>0</td>\n",
       "      <td>0</td>\n",
       "      <td>1</td>\n",
       "      <td>1</td>\n",
       "      <td>0</td>\n",
       "      <td>0</td>\n",
       "      <td>0</td>\n",
       "      <td>0</td>\n",
       "      <td>0</td>\n",
       "      <td>1</td>\n",
       "      <td>0</td>\n",
       "      <td>-0.227587</td>\n",
       "    </tr>\n",
       "    <tr>\n",
       "      <th>2</th>\n",
       "      <td>1728.0</td>\n",
       "      <td>2019</td>\n",
       "      <td>1</td>\n",
       "      <td>3</td>\n",
       "      <td>3</td>\n",
       "      <td>0</td>\n",
       "      <td>0</td>\n",
       "      <td>0</td>\n",
       "      <td>0</td>\n",
       "      <td>1</td>\n",
       "      <td>1</td>\n",
       "      <td>0</td>\n",
       "      <td>0</td>\n",
       "      <td>0</td>\n",
       "      <td>0</td>\n",
       "      <td>0</td>\n",
       "      <td>1</td>\n",
       "      <td>0</td>\n",
       "      <td>0.931939</td>\n",
       "    </tr>\n",
       "    <tr>\n",
       "      <th>3</th>\n",
       "      <td>1408.0</td>\n",
       "      <td>2019</td>\n",
       "      <td>1</td>\n",
       "      <td>4</td>\n",
       "      <td>4</td>\n",
       "      <td>0</td>\n",
       "      <td>0</td>\n",
       "      <td>0</td>\n",
       "      <td>0</td>\n",
       "      <td>1</td>\n",
       "      <td>1</td>\n",
       "      <td>0</td>\n",
       "      <td>0</td>\n",
       "      <td>0</td>\n",
       "      <td>0</td>\n",
       "      <td>0</td>\n",
       "      <td>1</td>\n",
       "      <td>0</td>\n",
       "      <td>0.250757</td>\n",
       "    </tr>\n",
       "    <tr>\n",
       "      <th>4</th>\n",
       "      <td>1250.0</td>\n",
       "      <td>2019</td>\n",
       "      <td>1</td>\n",
       "      <td>5</td>\n",
       "      <td>5</td>\n",
       "      <td>0</td>\n",
       "      <td>0</td>\n",
       "      <td>0</td>\n",
       "      <td>0</td>\n",
       "      <td>1</td>\n",
       "      <td>1</td>\n",
       "      <td>0</td>\n",
       "      <td>0</td>\n",
       "      <td>0</td>\n",
       "      <td>0</td>\n",
       "      <td>0</td>\n",
       "      <td>1</td>\n",
       "      <td>0</td>\n",
       "      <td>0.391429</td>\n",
       "    </tr>\n",
       "  </tbody>\n",
       "</table>\n",
       "</div>"
      ],
      "text/plain": [
       "   price(원/kg)  year  month  day  dayofweek  item_BC  item_CB  item_CR  \\\n",
       "0          0.0  2019      1    1          1        0        0        0   \n",
       "1          0.0  2019      1    2          2        0        0        0   \n",
       "2       1728.0  2019      1    3          3        0        0        0   \n",
       "3       1408.0  2019      1    4          4        0        0        0   \n",
       "4       1250.0  2019      1    5          5        0        0        0   \n",
       "\n",
       "   item_RD  item_TG  corporation_A  corporation_B  corporation_C  \\\n",
       "0        0        1              1              0              0   \n",
       "1        0        1              1              0              0   \n",
       "2        0        1              1              0              0   \n",
       "3        0        1              1              0              0   \n",
       "4        0        1              1              0              0   \n",
       "\n",
       "   corporation_D  corporation_E  corporation_F  location_J  location_S  \\\n",
       "0              0              0              0           1           0   \n",
       "1              0              0              0           1           0   \n",
       "2              0              0              0           1           0   \n",
       "3              0              0              0           1           0   \n",
       "4              0              0              0           1           0   \n",
       "\n",
       "   supply(kg)_scaled  \n",
       "0          -0.227587  \n",
       "1          -0.227587  \n",
       "2           0.931939  \n",
       "3           0.250757  \n",
       "4           0.391429  "
      ]
     },
     "execution_count": 9,
     "metadata": {},
     "output_type": "execute_result"
    }
   ],
   "source": [
    "# 데이터 전처리 및 특성 엔지니어링을 위한 준비\n",
    "\n",
    "# timestamp 컬럼을 datetime 객체로 변환\n",
    "train_data['timestamp'] = pd.to_datetime(train_data['timestamp'])\n",
    "\n",
    "# 연, 월, 일, 요일을 새로운 컬럼으로 추출\n",
    "train_data['year'] = train_data['timestamp'].dt.year\n",
    "train_data['month'] = train_data['timestamp'].dt.month\n",
    "train_data['day'] = train_data['timestamp'].dt.day\n",
    "train_data['dayofweek'] = train_data['timestamp'].dt.dayofweek\n",
    "\n",
    "# 범주형 변수를 원-핫 인코딩\n",
    "categorical_features = ['item', 'corporation', 'location']\n",
    "train_data_encoded = pd.get_dummies(train_data, columns=categorical_features)\n",
    "\n",
    "# 수치형 특성 스케일링\n",
    "from sklearn.preprocessing import StandardScaler\n",
    "\n",
    "# supply(kg) 특성을 표준화\n",
    "scaler = StandardScaler()\n",
    "train_data_encoded['supply(kg)_scaled'] = scaler.fit_transform(train_data_encoded[['supply(kg)']])\n",
    "\n",
    "# 불필요한 컬럼 제거 (원본 supply(kg) 컬럼과 timestamp 컬럼)\n",
    "train_data_final = train_data_encoded.drop(['supply(kg)', 'timestamp', 'ID'], axis=1)\n",
    "\n",
    "# 처리된 데이터의 상위 5행을 확인\n",
    "train_data_final.head()\n"
   ]
  },
  {
   "cell_type": "markdown",
   "id": "e28373dc",
   "metadata": {},
   "source": [
    "### 타겟변수 설정, 훈련데이터, 검증데이터 분할 , 학습 , 예측, 평가"
   ]
  },
  {
   "cell_type": "code",
   "execution_count": 10,
   "id": "ac5876d1",
   "metadata": {},
   "outputs": [
    {
     "data": {
      "text/plain": [
       "417.602195868801"
      ]
     },
     "execution_count": 10,
     "metadata": {},
     "output_type": "execute_result"
    }
   ],
   "source": [
    "from sklearn.ensemble import RandomForestRegressor\n",
    "from sklearn.model_selection import train_test_split\n",
    "from sklearn.metrics import mean_squared_error\n",
    "\n",
    "# 타겟 변수와 특성 변수 분리\n",
    "X = train_data_final.drop('price(원/kg)', axis=1)\n",
    "y = train_data_final['price(원/kg)']\n",
    "\n",
    "# 훈련 데이터와 검증 데이터 분할\n",
    "X_train, X_valid, y_train, y_valid = train_test_split(X, y, test_size=0.2, random_state=42)\n",
    "\n",
    "# 랜덤 포레스트 회귀 모델 초기화 및 훈련\n",
    "rf_model = RandomForestRegressor(n_estimators=100, random_state=42)\n",
    "rf_model.fit(X_train, y_train)\n",
    "\n",
    "# 검증 데이터에 대한 예측 수행\n",
    "y_pred = rf_model.predict(X_valid)\n",
    "\n",
    "# 평균 제곱근 오차(RMSE) 계산\n",
    "rmse = mean_squared_error(y_valid, y_pred, squared=False)\n",
    "\n",
    "rmse\n"
   ]
  },
  {
   "cell_type": "markdown",
   "id": "d07b7b77",
   "metadata": {},
   "source": [
    "### 하이퍼파라미터"
   ]
  },
  {
   "cell_type": "code",
   "execution_count": 11,
   "id": "e45f06a6",
   "metadata": {},
   "outputs": [
    {
     "data": {
      "text/plain": [
       "412.67118693467023"
      ]
     },
     "execution_count": 11,
     "metadata": {},
     "output_type": "execute_result"
    }
   ],
   "source": [
    "# 하이퍼파라미터 설정\n",
    "n_estimators = 150  # 트리의 수\n",
    "max_depth = 20  # 트리의 최대 깊이\n",
    "min_samples_split = 5  # 노드를 분할하기 위한 최소 샘플 수\n",
    "min_samples_leaf = 2  # 리프 노드에 있어야 하는 최소 샘플 수\n",
    "\n",
    "# 랜덤 포레스트 회귀 모델 생성 및 훈련\n",
    "rf_model = RandomForestRegressor(n_estimators=n_estimators,\n",
    "                                 max_depth=max_depth,\n",
    "                                 min_samples_split=min_samples_split,\n",
    "                                 min_samples_leaf=min_samples_leaf,\n",
    "                                 random_state=42,\n",
    "                                 n_jobs=-1)\n",
    "rf_model.fit(X_train, y_train)\n",
    "\n",
    "# 검증 데이터에 대한 예측 수행\n",
    "y_pred = rf_model.predict(X_valid)\n",
    "\n",
    "# 평균 제곱근 오차(RMSE) 계산\n",
    "rmse = mean_squared_error(y_valid, y_pred, squared=False)\n",
    "\n",
    "rmse"
   ]
  },
  {
   "cell_type": "markdown",
   "id": "cb67e506",
   "metadata": {},
   "source": [
    "### 모델 평가"
   ]
  },
  {
   "cell_type": "code",
   "execution_count": 12,
   "id": "4f39f6be",
   "metadata": {},
   "outputs": [
    {
     "data": {
      "text/plain": [
       "0.9582692827739767"
      ]
     },
     "execution_count": 12,
     "metadata": {},
     "output_type": "execute_result"
    }
   ],
   "source": [
    "from sklearn.metrics import r2_score\n",
    "\n",
    "# 검증 데이터에 대한 R^2 점수 계산\n",
    "r2 = r2_score(y_valid, y_pred)\n",
    "r2\n"
   ]
  },
  {
   "cell_type": "code",
   "execution_count": 13,
   "id": "e186912f",
   "metadata": {},
   "outputs": [
    {
     "data": {
      "text/plain": [
       "(False, ['ID', 'timestamp', 'item', 'corporation', 'location'])"
      ]
     },
     "execution_count": 13,
     "metadata": {},
     "output_type": "execute_result"
    }
   ],
   "source": [
    "# test.csv 파일을 다시 로드하고 컬럼들을 확인합니다.\n",
    "test_data = pd.read_csv('C:/Users/82106/Desktop/제주도 과일 공모전/data/test.csv')\n",
    "\n",
    "# test 데이터의 컬럼 확인\n",
    "test_data_columns = test_data.columns.tolist()\n",
    "\n",
    "# supply(kg) 컬럼이 있는지 확인\n",
    "'supply(kg)' in test_data_columns, test_data_columns\n"
   ]
  },
  {
   "cell_type": "code",
   "execution_count": 21,
   "id": "90505d49",
   "metadata": {},
   "outputs": [],
   "source": [
    "import pandas as pd\n",
    "import numpy as np\n",
    "from sklearn.ensemble import RandomForestRegressor\n",
    "from sklearn.model_selection import train_test_split\n",
    "from sklearn.metrics import mean_squared_error\n",
    "\n",
    "# train.csv 파일에서 'supply(kg)' 관련 특성을 제외하고 데이터를 다시 불러오기\n",
    "train_data = pd.read_csv('C:/Users/82106/Desktop/제주도 과일 공모전/data/train.csv')\n",
    "\n",
    "# 'timestamp' 컬럼을 datetime 객체로 변환하고 새로운 컬럼 추출\n",
    "train_data['timestamp'] = pd.to_datetime(train_data['timestamp'])\n",
    "train_data['year'] = train_data['timestamp'].dt.year\n",
    "train_data['month'] = train_data['timestamp'].dt.month\n",
    "train_data['day'] = train_data['timestamp'].dt.day\n",
    "train_data['dayofweek'] = train_data['timestamp'].dt.dayofweek\n",
    "\n",
    "# 범주형 변수 원-핫 인코딩\n",
    "train_data = pd.get_dummies(train_data, columns=['item', 'corporation', 'location'])\n",
    "\n",
    "# 불필요한 컬럼 제거\n",
    "train_data.drop(['ID', 'timestamp', 'supply(kg)'], axis=1, inplace=True)\n",
    "\n",
    "# 타겟 변수와 특성 변수 분리\n",
    "X = train_data.drop('price(원/kg)', axis=1)\n",
    "y = train_data['price(원/kg)']\n",
    "\n",
    "# 훈련 데이터와 검증 데이터 분할\n",
    "X_train, X_valid, y_train, y_valid = train_test_split(X, y, test_size=0.2, random_state=42)\n",
    "\n",
    "# 랜덤 포레스트 회귀 모델 생성 및 훈련\n",
    "rf_model = RandomForestRegressor(n_estimators=150, max_depth=20, min_samples_split=5, min_samples_leaf=2, random_state=42, n_jobs=-1)\n",
    "rf_model.fit(X_train, y_train)\n",
    "\n",
    "# test.csv 파일에서 동일한 전처리를 수행하고 예측하기\n",
    "test_data = pd.read_csv('C:/Users/82106/Desktop/제주도 과일 공모전/data/test.csv')\n",
    "test_data['timestamp'] = pd.to_datetime(test_data['timestamp'])\n",
    "test_data['year'] = test_data['timestamp'].dt.year\n",
    "test_data['month'] = test_data['timestamp'].dt.month\n",
    "test_data['day'] = test_data['timestamp'].dt.day\n",
    "test_data['dayofweek'] = test_data['timestamp'].dt.dayofweek\n",
    "test_data = pd.get_dummies(test_data, columns=['item', 'corporation', 'location'])\n",
    "\n",
    "# test.csv 파일에는 'supply(kg)' 컬럼이 없으므로, 이 컬럼 없이 예측을 수행\n",
    "# 훈련 데이터에 사용된 특성만 test 데이터에 적용\n",
    "X_test = test_data[X_train.columns]\n",
    "\n",
    "# 예측 수행\n",
    "test_predictions = rf_model.predict(X_test)\n",
    "\n"
   ]
  },
  {
   "cell_type": "code",
   "execution_count": 22,
   "id": "b7faac2a",
   "metadata": {},
   "outputs": [
    {
     "data": {
      "text/plain": [
       "0.8236255358735824"
      ]
     },
     "execution_count": 22,
     "metadata": {},
     "output_type": "execute_result"
    }
   ],
   "source": [
    "from sklearn.metrics import r2_score\n",
    "\n",
    "# 새로 훈련된 모델에 대한 검증 데이터의 R^2 점수 계산\n",
    "r2_score_retrained = r2_score(y_valid, rf_model.predict(X_valid))\n",
    "r2_score_retrained\n"
   ]
  },
  {
   "cell_type": "code",
   "execution_count": 23,
   "id": "bf71af7d",
   "metadata": {},
   "outputs": [
    {
     "data": {
      "text/plain": [
       "848.3871389478884"
      ]
     },
     "execution_count": 23,
     "metadata": {},
     "output_type": "execute_result"
    }
   ],
   "source": [
    "from sklearn.metrics import mean_squared_error\n",
    "# 평균 제곱근 오차(RMSE) 계산\n",
    "rmse = mean_squared_error(y_valid, rf_model.predict(X_valid), squared=False)\n",
    "\n",
    "rmse"
   ]
  },
  {
   "cell_type": "code",
   "execution_count": 24,
   "id": "add7d520",
   "metadata": {},
   "outputs": [
    {
     "data": {
      "text/plain": [
       "'C:/Users/82106/Desktop/제주도 과일 공모전/data/final_submission.csv'"
      ]
     },
     "execution_count": 24,
     "metadata": {},
     "output_type": "execute_result"
    }
   ],
   "source": [
    "# sample_submission.csv 파일의 형식에 맞게 예측 결과 저장하기\n",
    "sample_submission = pd.read_csv('C:/Users/82106/Desktop/제주도 과일 공모전/data/sample_submission.csv')\n",
    "sample_submission['answer'] = test_predictions\n",
    "\n",
    "# 예측 결과를 CSV 파일로 저장하기\n",
    "submission_file_path = 'C:/Users/82106/Desktop/제주도 과일 공모전/data/final_submission.csv'\n",
    "sample_submission.to_csv(submission_file_path, index=False)\n",
    "\n",
    "submission_file_path"
   ]
  },
  {
   "cell_type": "code",
   "execution_count": null,
   "id": "0adbf1cd",
   "metadata": {},
   "outputs": [],
   "source": []
  }
 ],
 "metadata": {
  "kernelspec": {
   "display_name": "Python 3 (ipykernel)",
   "language": "python",
   "name": "python3"
  },
  "language_info": {
   "codemirror_mode": {
    "name": "ipython",
    "version": 3
   },
   "file_extension": ".py",
   "mimetype": "text/x-python",
   "name": "python",
   "nbconvert_exporter": "python",
   "pygments_lexer": "ipython3",
   "version": "3.9.12"
  }
 },
 "nbformat": 4,
 "nbformat_minor": 5
}
