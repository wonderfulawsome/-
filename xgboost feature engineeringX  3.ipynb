{
 "cells": [
  {
   "cell_type": "code",
   "execution_count": null,
   "id": "231a3a1a",
   "metadata": {},
   "outputs": [],
   "source": [
    "train 데이터 전처리-> 분할 -> 모델학습, 평가-> 테스트 데이터 전처리-> 테스트 데이터를 넣고 가격 예측 "
   ]
  },
  {
   "cell_type": "code",
   "execution_count": 45,
   "id": "63c31f83",
   "metadata": {},
   "outputs": [
    {
     "data": {
      "text/plain": [
       "XGBRegressor(base_score=None, booster=None, callbacks=None,\n",
       "             colsample_bylevel=None, colsample_bynode=None,\n",
       "             colsample_bytree=None, device=None, early_stopping_rounds=None,\n",
       "             enable_categorical=False, eval_metric=None, feature_types=None,\n",
       "             gamma=None, grow_policy=None, importance_type=None,\n",
       "             interaction_constraints=None, learning_rate=None, max_bin=None,\n",
       "             max_cat_threshold=None, max_cat_to_onehot=None,\n",
       "             max_delta_step=None, max_depth=None, max_leaves=None,\n",
       "             min_child_weight=None, missing=nan, monotone_constraints=None,\n",
       "             multi_strategy=None, n_estimators=None, n_jobs=None,\n",
       "             num_parallel_tree=None, random_state=None, ...)"
      ]
     },
     "execution_count": 45,
     "metadata": {},
     "output_type": "execute_result"
    }
   ],
   "source": [
    "import pandas as pd\n",
    "\n",
    "# 파일을 불러옵니다.\n",
    "train_data = pd.read_csv('C:/Users/82106/Desktop/제주도 과일 공모전/data/train.csv')\n",
    "\n",
    "\n",
    "# 전처리 과정\n",
    "train_data['timestamp'] = pd.to_datetime(train_data['timestamp'])\n",
    "train_data['year'] = train_data['timestamp'].dt.year\n",
    "train_data['month'] = train_data['timestamp'].dt.month\n",
    "train_data['day'] = train_data['timestamp'].dt.day\n",
    "train_data = pd.get_dummies(train_data, columns=['item', 'corporation', 'location'])\n",
    "train_data.drop(['ID', 'timestamp'], axis=1, inplace=True)\n",
    "\n",
    "# 타겟 변수와 특성 변수 분리\n",
    "X = train_data.drop('price(원/kg)', axis=1)\n",
    "y = train_data['price(원/kg)']\n",
    "\n",
    "# XGBoost 회귀 모델 생성 및 훈련\n",
    "xgb_model = XGBRegressor(objective='reg:squarederror')\n",
    "xgb_model.fit(X, y)\n"
   ]
  },
  {
   "cell_type": "code",
   "execution_count": 49,
   "id": "b164f471",
   "metadata": {},
   "outputs": [
    {
     "name": "stdout",
     "output_type": "stream",
     "text": [
      "Validation RMSE: 495.11870773851126\n"
     ]
    }
   ],
   "source": [
    "from sklearn.metrics import mean_squared_error\n",
    "from math import sqrt\n",
    "\n",
    "# 훈련 데이터와 검증 데이터 분할\n",
    "X_train, X_valid, y_train, y_valid = train_test_split(X, y, test_size=0.2, random_state=42)\n",
    "\n",
    "# 모델을 훈련 세트에 적합시킵니다.\n",
    "xgb_model.fit(X_train, y_train)\n",
    "\n",
    "# 검증 세트에 대한 예측을 수행합니다.\n",
    "valid_predictions = xgb_model.predict(X_valid)\n",
    "\n",
    "# RMSE 계산\n",
    "rmse = sqrt(mean_squared_error(y_valid, valid_predictions))\n",
    "print(f\"Validation RMSE: {rmse}\")\n"
   ]
  },
  {
   "cell_type": "code",
   "execution_count": 53,
   "id": "551ee824",
   "metadata": {},
   "outputs": [
    {
     "data": {
      "text/plain": [
       "array([2665.9648   ,   82.56593  ,   -6.957315 , ...,   -4.4644537,\n",
       "         -9.972278 , 1430.1718   ], dtype=float32)"
      ]
     },
     "execution_count": 53,
     "metadata": {},
     "output_type": "execute_result"
    }
   ],
   "source": [
    "valid_predictions"
   ]
  },
  {
   "cell_type": "code",
   "execution_count": 50,
   "id": "9e55794d",
   "metadata": {},
   "outputs": [],
   "source": [
    "# test.csv 파일에서 동일한 전처리를 수행\n",
    "test_data = pd.read_csv('C:/Users/82106/Desktop/제주도 과일 공모전/data/test.csv')\n",
    "test_data['timestamp'] = pd.to_datetime(test_data['timestamp'])\n",
    "test_data['year'] = test_data['timestamp'].dt.year\n",
    "test_data['month'] = test_data['timestamp'].dt.month\n",
    "test_data['day'] = test_data['timestamp'].dt.day\n",
    "test_data = pd.get_dummies(test_data, columns=['item', 'corporation', 'location'])\n",
    "test_data.drop(['ID', 'timestamp'], axis=1, inplace=True)"
   ]
  },
  {
   "cell_type": "code",
   "execution_count": 51,
   "id": "bfc82a35",
   "metadata": {},
   "outputs": [],
   "source": [
    "# test 데이터에 존재하지 않는 컬럼을 train 데이터에서 찾아 0으로 채움\n",
    "for column in X.columns:\n",
    "    if column not in test_data.columns:\n",
    "        test_data[column] = 0"
   ]
  },
  {
   "cell_type": "code",
   "execution_count": 52,
   "id": "b06a8493",
   "metadata": {},
   "outputs": [
    {
     "name": "stdout",
     "output_type": "stream",
     "text": [
      "[-135.96365   -73.67239   -30.927258 ...  -32.589176  -27.217896\n",
      "  -25.549486]\n"
     ]
    }
   ],
   "source": [
    "# 예측 수행\n",
    "test_predictions = xgb_model.predict(test_data[X.columns])\n",
    "\n",
    "# 예측 결과 확인\n",
    "print(test_predictions)"
   ]
  },
  {
   "cell_type": "code",
   "execution_count": null,
   "id": "3f290977",
   "metadata": {},
   "outputs": [],
   "source": []
  }
 ],
 "metadata": {
  "kernelspec": {
   "display_name": "Python 3 (ipykernel)",
   "language": "python",
   "name": "python3"
  },
  "language_info": {
   "codemirror_mode": {
    "name": "ipython",
    "version": 3
   },
   "file_extension": ".py",
   "mimetype": "text/x-python",
   "name": "python",
   "nbconvert_exporter": "python",
   "pygments_lexer": "ipython3",
   "version": "3.9.12"
  }
 },
 "nbformat": 4,
 "nbformat_minor": 5
}
